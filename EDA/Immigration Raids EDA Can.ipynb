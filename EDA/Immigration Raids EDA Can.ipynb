{
 "cells": [
  {
   "cell_type": "markdown",
   "metadata": {},
   "source": [
    "# Preliminary EDA "
   ]
  },
  {
   "cell_type": "markdown",
   "metadata": {},
   "source": [
    "Written by Can Erozer"
   ]
  },
  {
   "cell_type": "code",
   "execution_count": 1,
   "metadata": {},
   "outputs": [
    {
     "data": {
      "text/plain": [
       "'/Users/canerozer/Desktop/DS701_Proje'"
      ]
     },
     "execution_count": 1,
     "metadata": {},
     "output_type": "execute_result"
    }
   ],
   "source": [
    "pwd"
   ]
  },
  {
   "cell_type": "code",
   "execution_count": 108,
   "metadata": {},
   "outputs": [],
   "source": [
    "import pandas as pd\n",
    "import re\n",
    "import numpy as np"
   ]
  },
  {
   "cell_type": "code",
   "execution_count": 82,
   "metadata": {},
   "outputs": [],
   "source": [
    "df_immig_raid=pd.read_excel('immigration_raids_oct2014_may2018.xlsx')"
   ]
  },
  {
   "cell_type": "code",
   "execution_count": 6,
   "metadata": {},
   "outputs": [],
   "source": [
    "df_abn_arrest_dates= pd.read_excel('abnormal_arrest_dates.xlsx')"
   ]
  },
  {
   "cell_type": "code",
   "execution_count": 7,
   "metadata": {
    "scrolled": true
   },
   "outputs": [
    {
     "data": {
      "text/html": [
       "<div>\n",
       "<style scoped>\n",
       "    .dataframe tbody tr th:only-of-type {\n",
       "        vertical-align: middle;\n",
       "    }\n",
       "\n",
       "    .dataframe tbody tr th {\n",
       "        vertical-align: top;\n",
       "    }\n",
       "\n",
       "    .dataframe thead th {\n",
       "        text-align: right;\n",
       "    }\n",
       "</style>\n",
       "<table border=\"1\" class=\"dataframe\">\n",
       "  <thead>\n",
       "    <tr style=\"text-align: right;\">\n",
       "      <th></th>\n",
       "      <th>Raid (y=1, n=0)</th>\n",
       "      <th>Source</th>\n",
       "      <th>Source2</th>\n",
       "      <th>Source3</th>\n",
       "      <th>arrestdate</th>\n",
       "      <th>date_start</th>\n",
       "      <th>date_end</th>\n",
       "      <th>CountyName</th>\n",
       "      <th>ST</th>\n",
       "      <th>arrests</th>\n",
       "      <th>...</th>\n",
       "      <th>city2</th>\n",
       "      <th>city3</th>\n",
       "      <th>location (qualitatively)</th>\n",
       "      <th>target  (location targeted: 1=restaurant 2=mobile home park 3=courthouse 4=jail 5= county 6=city/town, 7= store/establishment 8=state 9=hotel 10=church 11=private home 12=agricultural business 13= hospital 14= spa/salon 15= money remitters 16= national park)</th>\n",
       "      <th>previousconviction (percent)</th>\n",
       "      <th>female</th>\n",
       "      <th>nationality</th>\n",
       "      <th>StateCountyFIPS</th>\n",
       "      <th>FIPSState</th>\n",
       "      <th>FIPSCounty</th>\n",
       "    </tr>\n",
       "  </thead>\n",
       "  <tbody>\n",
       "  </tbody>\n",
       "</table>\n",
       "<p>0 rows × 23 columns</p>\n",
       "</div>"
      ],
      "text/plain": [
       "Empty DataFrame\n",
       "Columns: [Raid (y=1, n=0), Source, Source2, Source3, arrestdate, date_start, date_end, CountyName, ST, arrests, arrests_total, durationofraid (in days), city, city2, city3, location (qualitatively), target  (location targeted: 1=restaurant 2=mobile home park 3=courthouse 4=jail 5= county 6=city/town, 7= store/establishment 8=state 9=hotel 10=church 11=private home 12=agricultural business 13= hospital 14= spa/salon 15= money remitters 16= national park), previousconviction (percent), female, nationality, StateCountyFIPS, FIPSState, FIPSCounty]\n",
       "Index: []\n",
       "\n",
       "[0 rows x 23 columns]"
      ]
     },
     "execution_count": 7,
     "metadata": {},
     "output_type": "execute_result"
    }
   ],
   "source": [
    "df_abn_arrest_dates.head()"
   ]
  },
  {
   "cell_type": "code",
   "execution_count": 4,
   "metadata": {
    "scrolled": true
   },
   "outputs": [
    {
     "data": {
      "text/html": [
       "<div>\n",
       "<style scoped>\n",
       "    .dataframe tbody tr th:only-of-type {\n",
       "        vertical-align: middle;\n",
       "    }\n",
       "\n",
       "    .dataframe tbody tr th {\n",
       "        vertical-align: top;\n",
       "    }\n",
       "\n",
       "    .dataframe thead th {\n",
       "        text-align: right;\n",
       "    }\n",
       "</style>\n",
       "<table border=\"1\" class=\"dataframe\">\n",
       "  <thead>\n",
       "    <tr style=\"text-align: right;\">\n",
       "      <th></th>\n",
       "      <th>Source</th>\n",
       "      <th>Source2</th>\n",
       "      <th>Source3</th>\n",
       "      <th>arrestdate</th>\n",
       "      <th>date_end</th>\n",
       "      <th>CountyName</th>\n",
       "      <th>ST</th>\n",
       "      <th>arrests</th>\n",
       "      <th>arrests_total</th>\n",
       "      <th>durationofraid</th>\n",
       "      <th>...</th>\n",
       "      <th>city2</th>\n",
       "      <th>city3</th>\n",
       "      <th>location</th>\n",
       "      <th>target  (location targeted: 1=restaurant 2=mobile home park 3=courthouse 4=jail 5= county 6=city/town, 7= store/establishment 8=state 9=hotel 10=church 11=private home 12=agricultural business 13= hospital)</th>\n",
       "      <th>previousconviction</th>\n",
       "      <th>female</th>\n",
       "      <th>nationality</th>\n",
       "      <th>FIPSState</th>\n",
       "      <th>FIPSCounty</th>\n",
       "      <th>StateCountyFIPS</th>\n",
       "    </tr>\n",
       "  </thead>\n",
       "  <tbody>\n",
       "    <tr>\n",
       "      <th>0</th>\n",
       "      <td>Link</td>\n",
       "      <td>NaN</td>\n",
       "      <td>NaN</td>\n",
       "      <td>10/1/14</td>\n",
       "      <td>2014-10-01 00:00:00</td>\n",
       "      <td>Los Angeles</td>\n",
       "      <td>CA</td>\n",
       "      <td>9.0</td>\n",
       "      <td>9.0</td>\n",
       "      <td>1.0</td>\n",
       "      <td>...</td>\n",
       "      <td>NaN</td>\n",
       "      <td>NaN</td>\n",
       "      <td>Los Angeles fashion district</td>\n",
       "      <td>7</td>\n",
       "      <td>NaN</td>\n",
       "      <td>NaN</td>\n",
       "      <td>NaN</td>\n",
       "      <td>6.0</td>\n",
       "      <td>37.0</td>\n",
       "      <td>6037.0</td>\n",
       "    </tr>\n",
       "    <tr>\n",
       "      <th>1</th>\n",
       "      <td>Link</td>\n",
       "      <td>NaN</td>\n",
       "      <td>NaN</td>\n",
       "      <td>2/11/18</td>\n",
       "      <td>2018-02-15 00:00:00</td>\n",
       "      <td>Los Angeles</td>\n",
       "      <td>CA</td>\n",
       "      <td>212.0</td>\n",
       "      <td>212.0</td>\n",
       "      <td>5.0</td>\n",
       "      <td>...</td>\n",
       "      <td>NaN</td>\n",
       "      <td>NaN</td>\n",
       "      <td>Los Angeles area of responsibility</td>\n",
       "      <td>6</td>\n",
       "      <td>0.55</td>\n",
       "      <td>NaN</td>\n",
       "      <td>NaN</td>\n",
       "      <td>6.0</td>\n",
       "      <td>37.0</td>\n",
       "      <td>6037.0</td>\n",
       "    </tr>\n",
       "    <tr>\n",
       "      <th>2</th>\n",
       "      <td>Link</td>\n",
       "      <td>NaN</td>\n",
       "      <td>NaN</td>\n",
       "      <td>2/12/18</td>\n",
       "      <td>2018-02-15 00:00:00</td>\n",
       "      <td>Los Angeles</td>\n",
       "      <td>CA</td>\n",
       "      <td>212.0</td>\n",
       "      <td>212.0</td>\n",
       "      <td>5.0</td>\n",
       "      <td>...</td>\n",
       "      <td>NaN</td>\n",
       "      <td>NaN</td>\n",
       "      <td>Southern California</td>\n",
       "      <td>NaN</td>\n",
       "      <td>0.55</td>\n",
       "      <td>NaN</td>\n",
       "      <td>NaN</td>\n",
       "      <td>6.0</td>\n",
       "      <td>37.0</td>\n",
       "      <td>6037.0</td>\n",
       "    </tr>\n",
       "    <tr>\n",
       "      <th>3</th>\n",
       "      <td>Link</td>\n",
       "      <td>NaN</td>\n",
       "      <td>NaN</td>\n",
       "      <td>2/13/18</td>\n",
       "      <td>2018-02-15 00:00:00</td>\n",
       "      <td>Los Angeles</td>\n",
       "      <td>CA</td>\n",
       "      <td>212.0</td>\n",
       "      <td>212.0</td>\n",
       "      <td>5.0</td>\n",
       "      <td>...</td>\n",
       "      <td>NaN</td>\n",
       "      <td>NaN</td>\n",
       "      <td>Southern California</td>\n",
       "      <td>NaN</td>\n",
       "      <td>0.55</td>\n",
       "      <td>NaN</td>\n",
       "      <td>NaN</td>\n",
       "      <td>6.0</td>\n",
       "      <td>37.0</td>\n",
       "      <td>6037.0</td>\n",
       "    </tr>\n",
       "    <tr>\n",
       "      <th>4</th>\n",
       "      <td>Link</td>\n",
       "      <td>NaN</td>\n",
       "      <td>NaN</td>\n",
       "      <td>2/14/18</td>\n",
       "      <td>2018-02-15 00:00:00</td>\n",
       "      <td>Los Angeles</td>\n",
       "      <td>CA</td>\n",
       "      <td>212.0</td>\n",
       "      <td>212.0</td>\n",
       "      <td>5.0</td>\n",
       "      <td>...</td>\n",
       "      <td>NaN</td>\n",
       "      <td>NaN</td>\n",
       "      <td>Southern California</td>\n",
       "      <td>NaN</td>\n",
       "      <td>0.55</td>\n",
       "      <td>NaN</td>\n",
       "      <td>NaN</td>\n",
       "      <td>6.0</td>\n",
       "      <td>37.0</td>\n",
       "      <td>6037.0</td>\n",
       "    </tr>\n",
       "  </tbody>\n",
       "</table>\n",
       "<p>5 rows × 21 columns</p>\n",
       "</div>"
      ],
      "text/plain": [
       "  Source Source2 Source3 arrestdate             date_end   CountyName  ST  \\\n",
       "0   Link     NaN     NaN    10/1/14  2014-10-01 00:00:00  Los Angeles  CA   \n",
       "1  Link      NaN     NaN    2/11/18  2018-02-15 00:00:00  Los Angeles  CA   \n",
       "2   Link     NaN     NaN    2/12/18  2018-02-15 00:00:00  Los Angeles  CA   \n",
       "3   Link     NaN     NaN    2/13/18  2018-02-15 00:00:00  Los Angeles  CA   \n",
       "4   Link     NaN     NaN    2/14/18  2018-02-15 00:00:00  Los Angeles  CA   \n",
       "\n",
       "   arrests  arrests_total  durationofraid  ... city2 city3  \\\n",
       "0      9.0            9.0             1.0  ...   NaN   NaN   \n",
       "1    212.0          212.0             5.0  ...   NaN   NaN   \n",
       "2    212.0          212.0             5.0  ...   NaN   NaN   \n",
       "3    212.0          212.0             5.0  ...   NaN   NaN   \n",
       "4    212.0          212.0             5.0  ...   NaN   NaN   \n",
       "\n",
       "                             location  \\\n",
       "0        Los Angeles fashion district   \n",
       "1  Los Angeles area of responsibility   \n",
       "2                 Southern California   \n",
       "3                 Southern California   \n",
       "4                 Southern California   \n",
       "\n",
       "  target  (location targeted: 1=restaurant 2=mobile home park 3=courthouse 4=jail 5= county 6=city/town, 7= store/establishment 8=state 9=hotel 10=church 11=private home 12=agricultural business 13= hospital)  \\\n",
       "0                                                  7                                                                                                                                                               \n",
       "1                                                  6                                                                                                                                                               \n",
       "2                                                NaN                                                                                                                                                               \n",
       "3                                                NaN                                                                                                                                                               \n",
       "4                                                NaN                                                                                                                                                               \n",
       "\n",
       "  previousconviction female  nationality FIPSState  FIPSCounty  \\\n",
       "0                NaN    NaN          NaN       6.0        37.0   \n",
       "1               0.55    NaN          NaN       6.0        37.0   \n",
       "2               0.55    NaN          NaN       6.0        37.0   \n",
       "3               0.55    NaN          NaN       6.0        37.0   \n",
       "4               0.55    NaN          NaN       6.0        37.0   \n",
       "\n",
       "   StateCountyFIPS  \n",
       "0           6037.0  \n",
       "1           6037.0  \n",
       "2           6037.0  \n",
       "3           6037.0  \n",
       "4           6037.0  \n",
       "\n",
       "[5 rows x 21 columns]"
      ]
     },
     "execution_count": 4,
     "metadata": {},
     "output_type": "execute_result"
    }
   ],
   "source": [
    "df_immig_raid.head()"
   ]
  },
  {
   "cell_type": "code",
   "execution_count": 5,
   "metadata": {
    "scrolled": true
   },
   "outputs": [
    {
     "name": "stdout",
     "output_type": "stream",
     "text": [
      "<class 'pandas.core.frame.DataFrame'>\n",
      "RangeIndex: 780 entries, 0 to 779\n",
      "Data columns (total 21 columns):\n",
      " #   Column                                                                                                                                                                                                          Non-Null Count  Dtype  \n",
      "---  ------                                                                                                                                                                                                          --------------  -----  \n",
      " 0   Source                                                                                                                                                                                                          780 non-null    object \n",
      " 1   Source2                                                                                                                                                                                                         191 non-null    object \n",
      " 2   Source3                                                                                                                                                                                                         143 non-null    object \n",
      " 3   arrestdate                                                                                                                                                                                                      780 non-null    object \n",
      " 4   date_end                                                                                                                                                                                                        773 non-null    object \n",
      " 5   CountyName                                                                                                                                                                                                      780 non-null    object \n",
      " 6   ST                                                                                                                                                                                                              780 non-null    object \n",
      " 7   arrests                                                                                                                                                                                                         532 non-null    float64\n",
      " 8   arrests_total                                                                                                                                                                                                   743 non-null    float64\n",
      " 9   durationofraid                                                                                                                                                                                                  742 non-null    float64\n",
      " 10  city                                                                                                                                                                                                            481 non-null    object \n",
      " 11  city2                                                                                                                                                                                                           144 non-null    object \n",
      " 12  city3                                                                                                                                                                                                           92 non-null     object \n",
      " 13  location                                                                                                                                                                                                        374 non-null    object \n",
      " 14  target  (location targeted: 1=restaurant 2=mobile home park 3=courthouse 4=jail 5= county 6=city/town, 7= store/establishment 8=state 9=hotel 10=church 11=private home 12=agricultural business 13= hospital)  446 non-null    object \n",
      " 15  previousconviction                                                                                                                                                                                              373 non-null    object \n",
      " 16  female                                                                                                                                                                                                          279 non-null    float64\n",
      " 17  nationality                                                                                                                                                                                                     400 non-null    object \n",
      " 18  FIPSState                                                                                                                                                                                                       481 non-null    float64\n",
      " 19  FIPSCounty                                                                                                                                                                                                      481 non-null    float64\n",
      " 20  StateCountyFIPS                                                                                                                                                                                                 481 non-null    float64\n",
      "dtypes: float64(7), object(14)\n",
      "memory usage: 128.1+ KB\n"
     ]
    }
   ],
   "source": [
    "df_immig_raid.info()"
   ]
  },
  {
   "cell_type": "code",
   "execution_count": 8,
   "metadata": {},
   "outputs": [
    {
     "data": {
      "text/plain": [
       "(780, 21)"
      ]
     },
     "execution_count": 8,
     "metadata": {},
     "output_type": "execute_result"
    }
   ],
   "source": [
    "df_immig_raid.shape"
   ]
  },
  {
   "cell_type": "markdown",
   "metadata": {},
   "source": [
    "# First Insights"
   ]
  },
  {
   "cell_type": "markdown",
   "metadata": {},
   "source": [
    "First I will make an analysis on attributes that are formed of links. "
   ]
  },
  {
   "cell_type": "markdown",
   "metadata": {},
   "source": [
    "## For 'Source' attribute:"
   ]
  },
  {
   "cell_type": "code",
   "execution_count": 256,
   "metadata": {},
   "outputs": [
    {
     "data": {
      "text/plain": [
       "np.False_"
      ]
     },
     "execution_count": 256,
     "metadata": {},
     "output_type": "execute_result"
    }
   ],
   "source": [
    "df_immig_raid['Source'].isna().any()"
   ]
  },
  {
   "cell_type": "markdown",
   "metadata": {},
   "source": [
    "All the links are given in this attribute."
   ]
  },
  {
   "cell_type": "markdown",
   "metadata": {},
   "source": [
    "## For 'Source2' attribute:"
   ]
  },
  {
   "cell_type": "code",
   "execution_count": 257,
   "metadata": {},
   "outputs": [
    {
     "data": {
      "text/plain": [
       "np.True_"
      ]
     },
     "execution_count": 257,
     "metadata": {},
     "output_type": "execute_result"
    }
   ],
   "source": [
    "df_immig_raid['Source2'].isna().any()"
   ]
  },
  {
   "cell_type": "code",
   "execution_count": 258,
   "metadata": {},
   "outputs": [
    {
     "data": {
      "text/plain": [
       "Source2\n",
       "True     589\n",
       "False    191\n",
       "Name: count, dtype: int64"
      ]
     },
     "execution_count": 258,
     "metadata": {},
     "output_type": "execute_result"
    }
   ],
   "source": [
    "df_immig_raid['Source2'].isna().value_counts()"
   ]
  },
  {
   "cell_type": "code",
   "execution_count": null,
   "metadata": {},
   "outputs": [],
   "source": []
  },
  {
   "cell_type": "markdown",
   "metadata": {},
   "source": [
    "## For 'Source3' attribute:"
   ]
  },
  {
   "cell_type": "code",
   "execution_count": 259,
   "metadata": {},
   "outputs": [
    {
     "data": {
      "text/plain": [
       "np.True_"
      ]
     },
     "execution_count": 259,
     "metadata": {},
     "output_type": "execute_result"
    }
   ],
   "source": [
    "df_immig_raid['Source2'].isna().any()"
   ]
  },
  {
   "cell_type": "code",
   "execution_count": 260,
   "metadata": {},
   "outputs": [
    {
     "data": {
      "text/plain": [
       "Source2\n",
       "True     589\n",
       "False    191\n",
       "Name: count, dtype: int64"
      ]
     },
     "execution_count": 260,
     "metadata": {},
     "output_type": "execute_result"
    }
   ],
   "source": [
    "df_immig_raid['Source2'].isna().value_counts()"
   ]
  },
  {
   "cell_type": "code",
   "execution_count": null,
   "metadata": {},
   "outputs": [],
   "source": []
  },
  {
   "cell_type": "code",
   "execution_count": null,
   "metadata": {},
   "outputs": [],
   "source": []
  },
  {
   "cell_type": "markdown",
   "metadata": {},
   "source": [
    "### Now, I will make an analysis on attributes that are not formed of links."
   ]
  },
  {
   "cell_type": "code",
   "execution_count": 15,
   "metadata": {},
   "outputs": [],
   "source": [
    "columns_wo_source=df_immig_raid.columns[3:]"
   ]
  },
  {
   "cell_type": "code",
   "execution_count": 16,
   "metadata": {
    "scrolled": true
   },
   "outputs": [
    {
     "data": {
      "text/plain": [
       "Index(['arrestdate', 'date_end', 'CountyName', 'ST', 'arrests',\n",
       "       'arrests_total', 'durationofraid', 'city', 'city2', 'city3', 'location',\n",
       "       'target  (location targeted: 1=restaurant 2=mobile home park 3=courthouse 4=jail 5= county 6=city/town, 7= store/establishment 8=state 9=hotel 10=church 11=private home 12=agricultural business 13= hospital)',\n",
       "       'previousconviction', 'female', 'nationality', 'FIPSState',\n",
       "       'FIPSCounty', 'StateCountyFIPS'],\n",
       "      dtype='object')"
      ]
     },
     "execution_count": 16,
     "metadata": {},
     "output_type": "execute_result"
    }
   ],
   "source": [
    "columns_wo_source"
   ]
  },
  {
   "cell_type": "markdown",
   "metadata": {},
   "source": [
    "## For 'arrestdate' attribute:"
   ]
  },
  {
   "cell_type": "code",
   "execution_count": 24,
   "metadata": {},
   "outputs": [
    {
     "data": {
      "text/plain": [
       "arrestdate\n",
       "9/18/16                18\n",
       "9/23/16                18\n",
       "9/19/16                18\n",
       "9/20/16                18\n",
       "9/21/16                18\n",
       "                       ..\n",
       "10/1/14                 1\n",
       "2018-02-22 00:00:00     1\n",
       "2/24/15                 1\n",
       "2017-12-04 00:00:00     1\n",
       "2017-02-28 00:00:00     1\n",
       "Name: count, Length: 326, dtype: int64"
      ]
     },
     "execution_count": 24,
     "metadata": {},
     "output_type": "execute_result"
    }
   ],
   "source": [
    "df_immig_raid['arrestdate'].value_counts()"
   ]
  },
  {
   "cell_type": "code",
   "execution_count": 25,
   "metadata": {},
   "outputs": [
    {
     "data": {
      "text/plain": [
       "array(['10/1/14', '2/11/18', '2/12/18', '2/13/18', '2/14/18', '2/15/18',\n",
       "       '2/24/15', '2/6/17', '2/7/17', '2/8/17', '2/9/17', '3/1/15',\n",
       "       '3/2/15', '3/3/15', '3/4/15', '3/5/15', '4/4/17', '5/20/17',\n",
       "       '5/21/17', '5/22/17', '5/23/17', '5/24/17', '7/17/16', '7/18/16',\n",
       "       '7/19/16', '7/20/16', '8/23/15', '8/24/15', '8/25/15', '8/26/15',\n",
       "       '9/24/17', '9/25/17', '9/26/17', '9/27/17',\n",
       "       datetime.datetime(2015, 3, 1, 0, 0),\n",
       "       datetime.datetime(2015, 3, 2, 0, 0),\n",
       "       datetime.datetime(2015, 3, 3, 0, 0),\n",
       "       datetime.datetime(2015, 3, 4, 0, 0),\n",
       "       datetime.datetime(2015, 3, 5, 0, 0),\n",
       "       datetime.datetime(2015, 8, 23, 0, 0),\n",
       "       datetime.datetime(2015, 8, 25, 0, 0),\n",
       "       datetime.datetime(2015, 8, 26, 0, 0),\n",
       "       datetime.datetime(2016, 2, 26, 0, 0),\n",
       "       datetime.datetime(2017, 2, 6, 0, 0),\n",
       "       datetime.datetime(2017, 2, 7, 0, 0),\n",
       "       datetime.datetime(2017, 2, 8, 0, 0),\n",
       "       datetime.datetime(2017, 2, 9, 0, 0),\n",
       "       datetime.datetime(2017, 2, 10, 0, 0),\n",
       "       datetime.datetime(2017, 5, 20, 0, 0),\n",
       "       datetime.datetime(2017, 5, 21, 0, 0),\n",
       "       datetime.datetime(2017, 5, 22, 0, 0),\n",
       "       datetime.datetime(2017, 5, 23, 0, 0),\n",
       "       datetime.datetime(2017, 5, 24, 0, 0),\n",
       "       datetime.datetime(2017, 9, 25, 0, 0),\n",
       "       datetime.datetime(2017, 9, 26, 0, 0),\n",
       "       datetime.datetime(2018, 2, 11, 0, 0),\n",
       "       datetime.datetime(2018, 2, 12, 0, 0),\n",
       "       datetime.datetime(2018, 2, 13, 0, 0),\n",
       "       datetime.datetime(2018, 2, 14, 0, 0),\n",
       "       datetime.datetime(2015, 3, 1, 0, 0),\n",
       "       datetime.datetime(2015, 3, 2, 0, 0),\n",
       "       datetime.datetime(2015, 3, 3, 0, 0),\n",
       "       datetime.datetime(2015, 3, 4, 0, 0),\n",
       "       datetime.datetime(2015, 3, 5, 0, 0),\n",
       "       datetime.datetime(2015, 9, 10, 0, 0),\n",
       "       datetime.datetime(2015, 9, 11, 0, 0),\n",
       "       datetime.datetime(2015, 9, 12, 0, 0),\n",
       "       datetime.datetime(2015, 9, 13, 0, 0),\n",
       "       datetime.datetime(2015, 9, 14, 0, 0),\n",
       "       datetime.datetime(2015, 9, 15, 0, 0),\n",
       "       datetime.datetime(2015, 9, 16, 0, 0),\n",
       "       datetime.datetime(2015, 9, 17, 0, 0),\n",
       "       datetime.datetime(2015, 9, 18, 0, 0),\n",
       "       datetime.datetime(2015, 9, 19, 0, 0),\n",
       "       datetime.datetime(2015, 9, 20, 0, 0),\n",
       "       datetime.datetime(2015, 9, 21, 0, 0),\n",
       "       datetime.datetime(2015, 9, 22, 0, 0),\n",
       "       datetime.datetime(2015, 9, 24, 0, 0),\n",
       "       datetime.datetime(2015, 9, 25, 0, 0),\n",
       "       datetime.datetime(2015, 9, 26, 0, 0),\n",
       "       datetime.datetime(2015, 9, 27, 0, 0),\n",
       "       datetime.datetime(2015, 9, 28, 0, 0),\n",
       "       datetime.datetime(2015, 9, 29, 0, 0),\n",
       "       datetime.datetime(2016, 1, 2, 0, 0),\n",
       "       datetime.datetime(2016, 1, 3, 0, 0),\n",
       "       datetime.datetime(2016, 1, 4, 0, 0),\n",
       "       datetime.datetime(2017, 4, 18, 0, 0),\n",
       "       datetime.datetime(2017, 4, 19, 0, 0),\n",
       "       datetime.datetime(2017, 4, 20, 0, 0),\n",
       "       datetime.datetime(2017, 4, 21, 0, 0),\n",
       "       datetime.datetime(2018, 3, 18, 0, 0),\n",
       "       datetime.datetime(2018, 3, 20, 0, 0),\n",
       "       datetime.datetime(2018, 3, 21, 0, 0),\n",
       "       datetime.datetime(2018, 3, 22, 0, 0), '3/1/15', '3/2/15', '3/3/15',\n",
       "       '3/4/15', '3/5/15', datetime.datetime(2015, 3, 1, 0, 0),\n",
       "       datetime.datetime(2015, 3, 2, 0, 0),\n",
       "       datetime.datetime(2015, 3, 3, 0, 0),\n",
       "       datetime.datetime(2015, 3, 4, 0, 0),\n",
       "       datetime.datetime(2015, 3, 5, 0, 0),\n",
       "       datetime.datetime(2016, 3, 8, 0, 0),\n",
       "       datetime.datetime(2016, 3, 9, 0, 0),\n",
       "       datetime.datetime(2016, 3, 10, 0, 0),\n",
       "       datetime.datetime(2016, 3, 11, 0, 0),\n",
       "       datetime.datetime(2016, 3, 12, 0, 0),\n",
       "       datetime.datetime(2016, 3, 13, 0, 0),\n",
       "       datetime.datetime(2016, 3, 14, 0, 0),\n",
       "       datetime.datetime(2016, 3, 15, 0, 0),\n",
       "       datetime.datetime(2016, 3, 16, 0, 0),\n",
       "       datetime.datetime(2016, 3, 17, 0, 0),\n",
       "       datetime.datetime(2016, 3, 18, 0, 0),\n",
       "       datetime.datetime(2016, 3, 19, 0, 0),\n",
       "       datetime.datetime(2016, 3, 20, 0, 0),\n",
       "       datetime.datetime(2016, 3, 21, 0, 0),\n",
       "       datetime.datetime(2016, 6, 3, 0, 0),\n",
       "       datetime.datetime(2016, 8, 8, 0, 0),\n",
       "       datetime.datetime(2017, 2, 4, 0, 0),\n",
       "       datetime.datetime(2017, 2, 5, 0, 0),\n",
       "       datetime.datetime(2017, 2, 6, 0, 0),\n",
       "       datetime.datetime(2017, 2, 7, 0, 0),\n",
       "       datetime.datetime(2017, 2, 8, 0, 0),\n",
       "       datetime.datetime(2017, 2, 9, 0, 0),\n",
       "       datetime.datetime(2017, 2, 10, 0, 0),\n",
       "       datetime.datetime(2017, 3, 27, 0, 0),\n",
       "       datetime.datetime(2017, 9, 24, 0, 0),\n",
       "       datetime.datetime(2017, 9, 25, 0, 0),\n",
       "       datetime.datetime(2017, 9, 26, 0, 0),\n",
       "       datetime.datetime(2017, 9, 27, 0, 0),\n",
       "       datetime.datetime(2018, 5, 19, 0, 0),\n",
       "       datetime.datetime(2018, 5, 20, 0, 0),\n",
       "       datetime.datetime(2018, 5, 21, 0, 0),\n",
       "       datetime.datetime(2018, 5, 22, 0, 0),\n",
       "       datetime.datetime(2018, 5, 23, 0, 0),\n",
       "       datetime.datetime(2018, 5, 24, 0, 0),\n",
       "       datetime.datetime(2018, 5, 19, 0, 0),\n",
       "       datetime.datetime(2018, 5, 20, 0, 0),\n",
       "       datetime.datetime(2018, 5, 21, 0, 0),\n",
       "       datetime.datetime(2018, 5, 22, 0, 0),\n",
       "       datetime.datetime(2018, 5, 23, 0, 0),\n",
       "       datetime.datetime(2018, 5, 24, 0, 0),\n",
       "       datetime.datetime(2018, 5, 19, 0, 0),\n",
       "       datetime.datetime(2018, 5, 20, 0, 0),\n",
       "       datetime.datetime(2018, 5, 21, 0, 0),\n",
       "       datetime.datetime(2018, 5, 22, 0, 0),\n",
       "       datetime.datetime(2018, 5, 23, 0, 0),\n",
       "       datetime.datetime(2018, 5, 24, 0, 0),\n",
       "       datetime.datetime(2018, 5, 19, 0, 0),\n",
       "       datetime.datetime(2018, 5, 20, 0, 0),\n",
       "       datetime.datetime(2018, 5, 21, 0, 0),\n",
       "       datetime.datetime(2018, 5, 22, 0, 0),\n",
       "       datetime.datetime(2018, 5, 23, 0, 0),\n",
       "       datetime.datetime(2018, 5, 24, 0, 0),\n",
       "       datetime.datetime(2018, 5, 19, 0, 0),\n",
       "       datetime.datetime(2018, 5, 20, 0, 0),\n",
       "       datetime.datetime(2018, 5, 21, 0, 0),\n",
       "       datetime.datetime(2018, 5, 22, 0, 0),\n",
       "       datetime.datetime(2018, 5, 23, 0, 0),\n",
       "       datetime.datetime(2018, 5, 24, 0, 0),\n",
       "       datetime.datetime(2018, 5, 19, 0, 0),\n",
       "       datetime.datetime(2018, 5, 20, 0, 0),\n",
       "       datetime.datetime(2018, 5, 21, 0, 0),\n",
       "       datetime.datetime(2018, 5, 22, 0, 0),\n",
       "       datetime.datetime(2018, 5, 23, 0, 0),\n",
       "       datetime.datetime(2018, 5, 24, 0, 0),\n",
       "       datetime.datetime(2018, 5, 19, 0, 0),\n",
       "       datetime.datetime(2018, 5, 20, 0, 0),\n",
       "       datetime.datetime(2018, 5, 21, 0, 0),\n",
       "       datetime.datetime(2018, 5, 22, 0, 0),\n",
       "       datetime.datetime(2018, 5, 23, 0, 0),\n",
       "       datetime.datetime(2018, 5, 24, 0, 0),\n",
       "       datetime.datetime(2017, 2, 4, 0, 0),\n",
       "       datetime.datetime(2017, 2, 5, 0, 0),\n",
       "       datetime.datetime(2017, 2, 6, 0, 0),\n",
       "       datetime.datetime(2017, 2, 7, 0, 0),\n",
       "       datetime.datetime(2017, 2, 8, 0, 0),\n",
       "       datetime.datetime(2017, 2, 9, 0, 0),\n",
       "       datetime.datetime(2017, 2, 10, 0, 0),\n",
       "       datetime.datetime(2016, 5, 18, 0, 0),\n",
       "       datetime.datetime(2016, 6, 8, 0, 0),\n",
       "       datetime.datetime(2017, 2, 13, 0, 0),\n",
       "       datetime.datetime(2015, 3, 1, 0, 0),\n",
       "       datetime.datetime(2015, 3, 2, 0, 0),\n",
       "       datetime.datetime(2015, 3, 3, 0, 0),\n",
       "       datetime.datetime(2015, 3, 4, 0, 0),\n",
       "       datetime.datetime(2015, 3, 5, 0, 0),\n",
       "       datetime.datetime(2017, 2, 1, 0, 0),\n",
       "       datetime.datetime(2017, 3, 26, 0, 0),\n",
       "       datetime.datetime(2017, 6, 22, 0, 0),\n",
       "       datetime.datetime(2017, 9, 24, 0, 0),\n",
       "       datetime.datetime(2017, 9, 25, 0, 0),\n",
       "       datetime.datetime(2017, 9, 26, 0, 0),\n",
       "       datetime.datetime(2017, 9, 27, 0, 0),\n",
       "       datetime.datetime(2015, 3, 1, 0, 0),\n",
       "       datetime.datetime(2015, 3, 2, 0, 0),\n",
       "       datetime.datetime(2015, 3, 3, 0, 0),\n",
       "       datetime.datetime(2015, 3, 4, 0, 0),\n",
       "       datetime.datetime(2015, 3, 5, 0, 0),\n",
       "       datetime.datetime(2015, 7, 21, 0, 0),\n",
       "       datetime.datetime(2016, 1, 2, 0, 0),\n",
       "       datetime.datetime(2016, 1, 3, 0, 0),\n",
       "       datetime.datetime(2016, 1, 4, 0, 0),\n",
       "       datetime.datetime(2016, 1, 5, 0, 0),\n",
       "       datetime.datetime(2016, 1, 6, 0, 0),\n",
       "       datetime.datetime(2017, 1, 6, 0, 0),\n",
       "       datetime.datetime(2017, 3, 26, 0, 0),\n",
       "       datetime.datetime(2017, 3, 27, 0, 0),\n",
       "       datetime.datetime(2017, 3, 28, 0, 0),\n",
       "       datetime.datetime(2017, 3, 29, 0, 0),\n",
       "       datetime.datetime(2017, 3, 30, 0, 0),\n",
       "       datetime.datetime(2017, 4, 26, 0, 0),\n",
       "       datetime.datetime(2017, 4, 27, 0, 0),\n",
       "       datetime.datetime(2017, 4, 28, 0, 0),\n",
       "       datetime.datetime(2017, 4, 29, 0, 0),\n",
       "       datetime.datetime(2017, 4, 30, 0, 0),\n",
       "       datetime.datetime(2017, 5, 1, 0, 0),\n",
       "       datetime.datetime(2017, 5, 2, 0, 0),\n",
       "       datetime.datetime(2017, 5, 3, 0, 0),\n",
       "       datetime.datetime(2017, 5, 4, 0, 0),\n",
       "       datetime.datetime(2017, 5, 5, 0, 0),\n",
       "       datetime.datetime(2017, 5, 6, 0, 0),\n",
       "       datetime.datetime(2017, 9, 23, 0, 0),\n",
       "       datetime.datetime(2017, 9, 24, 0, 0),\n",
       "       datetime.datetime(2017, 9, 25, 0, 0),\n",
       "       datetime.datetime(2017, 9, 26, 0, 0),\n",
       "       datetime.datetime(2017, 9, 27, 0, 0),\n",
       "       datetime.datetime(2018, 1, 10, 0, 0),\n",
       "       datetime.datetime(2017, 2, 22, 0, 0),\n",
       "       datetime.datetime(2017, 5, 24, 0, 0),\n",
       "       datetime.datetime(2015, 3, 1, 0, 0),\n",
       "       datetime.datetime(2015, 3, 2, 0, 0),\n",
       "       datetime.datetime(2015, 3, 3, 0, 0),\n",
       "       datetime.datetime(2015, 3, 4, 0, 0),\n",
       "       datetime.datetime(2015, 3, 5, 0, 0), '2/26/18', '2/27/18',\n",
       "       '2/28/18', '3/1/18', '3/2/18', '11/13/17', '11/14/17', '11/15/17',\n",
       "       '11/16/17', '11/17/17', '11/18/17', '11/19/17', '11/20/17',\n",
       "       '2/6/17', '2/7/17', '2/8/17', '2/9/17', '2/10/17',\n",
       "       datetime.datetime(2017, 4, 25, 0, 0),\n",
       "       datetime.datetime(2017, 2, 24, 0, 0), '5/9/18',\n",
       "       datetime.datetime(2017, 2, 23, 0, 0),\n",
       "       datetime.datetime(2015, 3, 1, 0, 0),\n",
       "       datetime.datetime(2015, 3, 2, 0, 0),\n",
       "       datetime.datetime(2015, 3, 3, 0, 0),\n",
       "       datetime.datetime(2015, 3, 4, 0, 0),\n",
       "       datetime.datetime(2015, 3, 5, 0, 0),\n",
       "       datetime.datetime(2017, 2, 7, 0, 0),\n",
       "       datetime.datetime(2017, 2, 8, 0, 0),\n",
       "       datetime.datetime(2017, 2, 9, 0, 0),\n",
       "       datetime.datetime(2017, 2, 10, 0, 0),\n",
       "       datetime.datetime(2017, 2, 13, 0, 0),\n",
       "       datetime.datetime(2017, 2, 22, 0, 0),\n",
       "       datetime.datetime(2017, 2, 27, 0, 0),\n",
       "       datetime.datetime(2017, 2, 28, 0, 0),\n",
       "       datetime.datetime(2017, 3, 1, 0, 0),\n",
       "       datetime.datetime(2017, 3, 2, 0, 0),\n",
       "       datetime.datetime(2017, 3, 5, 0, 0),\n",
       "       datetime.datetime(2017, 3, 6, 0, 0),\n",
       "       datetime.datetime(2017, 3, 9, 0, 0),\n",
       "       datetime.datetime(2017, 3, 10, 0, 0),\n",
       "       datetime.datetime(2017, 5, 15, 0, 0),\n",
       "       datetime.datetime(2017, 5, 16, 0, 0),\n",
       "       datetime.datetime(2017, 5, 17, 0, 0),\n",
       "       datetime.datetime(2017, 5, 23, 0, 0), '9/24/17', '9/25/17',\n",
       "       '9/26/17', '9/27/17', datetime.datetime(2018, 4, 5, 0, 0),\n",
       "       datetime.datetime(2017, 9, 13, 0, 0),\n",
       "       datetime.datetime(2018, 1, 23, 0, 0),\n",
       "       datetime.datetime(2018, 1, 24, 0, 0),\n",
       "       datetime.datetime(2018, 1, 25, 0, 0),\n",
       "       datetime.datetime(2018, 3, 20, 0, 0),\n",
       "       datetime.datetime(2018, 3, 21, 0, 0),\n",
       "       datetime.datetime(2018, 3, 22, 0, 0),\n",
       "       datetime.datetime(2017, 5, 23, 0, 0),\n",
       "       datetime.datetime(2018, 1, 23, 0, 0),\n",
       "       datetime.datetime(2018, 1, 24, 0, 0),\n",
       "       datetime.datetime(2018, 1, 25, 0, 0),\n",
       "       datetime.datetime(2017, 2, 22, 0, 0),\n",
       "       datetime.datetime(2018, 3, 20, 0, 0),\n",
       "       datetime.datetime(2018, 3, 21, 0, 0),\n",
       "       datetime.datetime(2018, 3, 22, 0, 0),\n",
       "       datetime.datetime(2016, 2, 23, 0, 0),\n",
       "       datetime.datetime(2015, 10, 24, 0, 0),\n",
       "       datetime.datetime(2015, 10, 25, 0, 0),\n",
       "       datetime.datetime(2015, 10, 26, 0, 0),\n",
       "       datetime.datetime(2015, 10, 27, 0, 0),\n",
       "       datetime.datetime(2015, 10, 28, 0, 0),\n",
       "       datetime.datetime(2015, 10, 29, 0, 0),\n",
       "       datetime.datetime(2016, 1, 30, 0, 0),\n",
       "       datetime.datetime(2016, 1, 31, 0, 0),\n",
       "       datetime.datetime(2016, 2, 1, 0, 0),\n",
       "       datetime.datetime(2016, 2, 2, 0, 0),\n",
       "       datetime.datetime(2016, 2, 3, 0, 0),\n",
       "       datetime.datetime(2016, 2, 4, 0, 0),\n",
       "       datetime.datetime(2016, 2, 5, 0, 0),\n",
       "       datetime.datetime(2017, 2, 17, 0, 0),\n",
       "       datetime.datetime(2016, 9, 18, 0, 0),\n",
       "       datetime.datetime(2016, 9, 19, 0, 0),\n",
       "       datetime.datetime(2016, 9, 20, 0, 0),\n",
       "       datetime.datetime(2016, 9, 21, 0, 0),\n",
       "       datetime.datetime(2016, 9, 22, 0, 0),\n",
       "       datetime.datetime(2016, 9, 23, 0, 0),\n",
       "       datetime.datetime(2017, 3, 26, 0, 0),\n",
       "       datetime.datetime(2017, 3, 27, 0, 0),\n",
       "       datetime.datetime(2017, 3, 28, 0, 0),\n",
       "       datetime.datetime(2017, 3, 29, 0, 0),\n",
       "       datetime.datetime(2017, 3, 30, 0, 0),\n",
       "       datetime.datetime(2017, 3, 25, 0, 0),\n",
       "       datetime.datetime(2017, 3, 26, 0, 0),\n",
       "       datetime.datetime(2017, 3, 27, 0, 0),\n",
       "       datetime.datetime(2016, 5, 9, 0, 0),\n",
       "       datetime.datetime(2016, 5, 10, 0, 0),\n",
       "       datetime.datetime(2016, 5, 11, 0, 0),\n",
       "       datetime.datetime(2016, 5, 12, 0, 0),\n",
       "       datetime.datetime(2016, 5, 13, 0, 0),\n",
       "       datetime.datetime(2016, 5, 14, 0, 0),\n",
       "       datetime.datetime(2016, 5, 15, 0, 0),\n",
       "       datetime.datetime(2016, 5, 16, 0, 0),\n",
       "       datetime.datetime(2016, 5, 17, 0, 0),\n",
       "       datetime.datetime(2016, 5, 18, 0, 0),\n",
       "       datetime.datetime(2016, 5, 19, 0, 0),\n",
       "       datetime.datetime(2016, 5, 20, 0, 0),\n",
       "       datetime.datetime(2016, 5, 21, 0, 0),\n",
       "       datetime.datetime(2016, 5, 22, 0, 0),\n",
       "       datetime.datetime(2016, 5, 23, 0, 0),\n",
       "       datetime.datetime(2016, 5, 24, 0, 0),\n",
       "       datetime.datetime(2016, 5, 25, 0, 0),\n",
       "       datetime.datetime(2016, 5, 26, 0, 0),\n",
       "       datetime.datetime(2016, 5, 27, 0, 0),\n",
       "       datetime.datetime(2016, 5, 28, 0, 0),\n",
       "       datetime.datetime(2016, 5, 29, 0, 0),\n",
       "       datetime.datetime(2016, 5, 30, 0, 0),\n",
       "       datetime.datetime(2016, 5, 31, 0, 0),\n",
       "       datetime.datetime(2016, 6, 1, 0, 0),\n",
       "       datetime.datetime(2016, 6, 2, 0, 0),\n",
       "       datetime.datetime(2016, 6, 3, 0, 0),\n",
       "       datetime.datetime(2016, 6, 4, 0, 0),\n",
       "       datetime.datetime(2016, 6, 5, 0, 0),\n",
       "       datetime.datetime(2016, 6, 6, 0, 0),\n",
       "       datetime.datetime(2016, 6, 7, 0, 0),\n",
       "       datetime.datetime(2016, 6, 8, 0, 0),\n",
       "       datetime.datetime(2016, 6, 9, 0, 0),\n",
       "       datetime.datetime(2016, 6, 10, 0, 0),\n",
       "       datetime.datetime(2016, 6, 11, 0, 0),\n",
       "       datetime.datetime(2016, 6, 12, 0, 0),\n",
       "       datetime.datetime(2016, 6, 13, 0, 0), '5/9/2016',\n",
       "       datetime.datetime(2017, 2, 4, 0, 0),\n",
       "       datetime.datetime(2017, 2, 5, 0, 0),\n",
       "       datetime.datetime(2017, 2, 6, 0, 0),\n",
       "       datetime.datetime(2017, 2, 7, 0, 0),\n",
       "       datetime.datetime(2017, 2, 8, 0, 0),\n",
       "       datetime.datetime(2017, 2, 9, 0, 0),\n",
       "       datetime.datetime(2017, 2, 10, 0, 0),\n",
       "       datetime.datetime(2016, 5, 9, 0, 0),\n",
       "       datetime.datetime(2016, 5, 10, 0, 0),\n",
       "       datetime.datetime(2016, 5, 11, 0, 0),\n",
       "       datetime.datetime(2016, 5, 12, 0, 0),\n",
       "       datetime.datetime(2016, 5, 13, 0, 0),\n",
       "       datetime.datetime(2016, 5, 14, 0, 0),\n",
       "       datetime.datetime(2016, 5, 15, 0, 0),\n",
       "       datetime.datetime(2016, 5, 16, 0, 0),\n",
       "       datetime.datetime(2016, 5, 17, 0, 0),\n",
       "       datetime.datetime(2016, 5, 18, 0, 0),\n",
       "       datetime.datetime(2016, 5, 19, 0, 0),\n",
       "       datetime.datetime(2016, 5, 20, 0, 0),\n",
       "       datetime.datetime(2016, 5, 21, 0, 0),\n",
       "       datetime.datetime(2016, 5, 22, 0, 0),\n",
       "       datetime.datetime(2016, 5, 23, 0, 0),\n",
       "       datetime.datetime(2016, 5, 24, 0, 0),\n",
       "       datetime.datetime(2016, 5, 25, 0, 0),\n",
       "       datetime.datetime(2016, 5, 26, 0, 0),\n",
       "       datetime.datetime(2016, 5, 27, 0, 0),\n",
       "       datetime.datetime(2016, 5, 28, 0, 0),\n",
       "       datetime.datetime(2016, 5, 29, 0, 0),\n",
       "       datetime.datetime(2016, 5, 30, 0, 0),\n",
       "       datetime.datetime(2016, 5, 31, 0, 0),\n",
       "       datetime.datetime(2016, 6, 1, 0, 0),\n",
       "       datetime.datetime(2016, 6, 2, 0, 0),\n",
       "       datetime.datetime(2016, 6, 3, 0, 0),\n",
       "       datetime.datetime(2016, 6, 4, 0, 0),\n",
       "       datetime.datetime(2016, 6, 5, 0, 0),\n",
       "       datetime.datetime(2016, 6, 6, 0, 0),\n",
       "       datetime.datetime(2016, 6, 7, 0, 0),\n",
       "       datetime.datetime(2016, 6, 8, 0, 0),\n",
       "       datetime.datetime(2016, 6, 9, 0, 0),\n",
       "       datetime.datetime(2016, 6, 10, 0, 0),\n",
       "       datetime.datetime(2016, 6, 11, 0, 0),\n",
       "       datetime.datetime(2016, 6, 12, 0, 0),\n",
       "       datetime.datetime(2016, 6, 13, 0, 0), '9/24/17', '9/25/17',\n",
       "       '9/26/17', '9/27/17', '3/31/17', '4/1/17', '4/2/17', '4/3/17',\n",
       "       '3/31/17', '4/1/17', '4/2/17', '4/3/17', '3/31/17', '4/1/17',\n",
       "       '4/2/17', '4/3/17', '3/31/17', '4/1/17', '4/2/17', '4/3/17',\n",
       "       '3/31/17', '4/1/17', '4/2/17', '4/3/17', '3/31/17', '4/1/17',\n",
       "       '4/2/17', '4/3/17', '10/29/15', '10/29/15', '9/24/17', '9/25/17',\n",
       "       '9/26/17', '9/27/17', '5/9/18', '2/6/17', '2/7/17', '2/8/17',\n",
       "       '2/9/17', '2/10/17', '4/5/16', '2/6/17', '2/7/17', '2/8/17',\n",
       "       '2/9/17', '2/10/17', '2/6/17', '2/7/17', '2/8/17', '2/9/17',\n",
       "       '2/10/17', '9/24/17', '9/25/17', '9/26/17', '9/27/17', '9/24/17',\n",
       "       '9/25/17', '9/26/17', '9/27/17', '9/24/17', '9/25/17', '9/26/17',\n",
       "       '9/27/17', '9/24/17', '9/25/17', '9/26/17', '9/27/17', '6/11/17',\n",
       "       '7/17/17', '7/18/17', '7/19/17', '7/20/17', '7/21/17', '2/15/17',\n",
       "       '1/29/16', '4/14/18', '4/14/18', '10/29/15', '2/7/18', '2/7/18',\n",
       "       '5/9/18', '2/7/17', '2/8/17', '2/9/17', '2/10/17', '2/11/17',\n",
       "       '2/12/17', '2/13/17', '2/14/17', '2/15/17', '2/16/17', '2/17/17',\n",
       "       '2/18/17', '2/19/17', '2/20/17', '2/21/17', '2/22/17', '2/23/17',\n",
       "       '2/24/17', '2/25/17', '2/26/17', '2/27/17', '2/28/17', '4/5/18',\n",
       "       '5/20/17', '5/21/17', '5/22/17', '5/23/17', '5/24/17', '5/25/17',\n",
       "       '5/26/17', '5/27/17', '5/28/17', '5/29/17', '5/30/17', '5/31/17',\n",
       "       '5/20/17', '5/21/17', '5/22/17', '5/23/17', '5/24/17', '5/25/17',\n",
       "       '5/26/17', '5/27/17', '5/28/17', '5/29/17', '5/30/17', '5/31/17',\n",
       "       '2/9/17', '2/10/17', '2/11/17', '2/12/17', '10/29/15', '2/8/17',\n",
       "       '9/18/16', '9/19/16', '9/20/16', '9/21/16', '9/22/16', '9/23/16',\n",
       "       '9/18/16', '9/19/16', '9/20/16', '9/21/16', '9/22/16', '9/23/16',\n",
       "       '9/18/16', '9/19/16', '9/20/16', '9/21/16', '9/22/16', '9/23/16',\n",
       "       '9/18/16', '9/19/16', '9/20/16', '9/21/16', '9/22/16', '9/23/16',\n",
       "       '9/18/16', '9/19/16', '9/20/16', '9/21/16', '9/22/16', '9/23/16',\n",
       "       '9/18/16', '9/19/16', '9/20/16', '9/21/16', '9/22/16', '9/23/16',\n",
       "       '9/18/16', '9/19/16', '9/20/16', '9/21/16', '9/22/16', '9/23/16',\n",
       "       '9/18/16', '9/19/16', '9/20/16', '9/21/16', '9/22/16', '9/23/16',\n",
       "       '9/18/16', '9/19/16', '9/20/16', '9/21/16', '9/22/16', '9/23/16',\n",
       "       '9/18/16', '9/19/16', '9/20/16', '9/21/16', '9/22/16', '9/23/16',\n",
       "       '9/18/16', '9/19/16', '9/20/16', '9/21/16', '9/22/16', '9/23/16',\n",
       "       '9/18/16', '9/19/16', '9/20/16', '9/21/16', '9/22/16', '9/23/16',\n",
       "       '9/18/16', '9/19/16', '9/20/16', '9/21/16', '9/22/16', '9/23/16',\n",
       "       '9/18/16', '9/19/16', '9/20/16', '9/21/16', '9/22/16', '9/23/16',\n",
       "       '9/18/16', '9/19/16', '9/20/16', '9/21/16', '9/22/16', '9/23/16',\n",
       "       '9/18/16', '9/19/16', '9/20/16', '9/21/16', '9/22/16', '9/23/16',\n",
       "       '9/18/16', '9/19/16', '9/20/16', '9/21/16', '9/22/16', '9/23/16',\n",
       "       '9/18/16', '9/19/16', '9/20/16', '9/21/16', '9/22/16', '9/23/16',\n",
       "       '9/24/17', '9/25/17', '9/26/17', '9/27/17', '3/31/17', '4/1/17',\n",
       "       '4/2/17', '4/3/17', datetime.datetime(2017, 2, 6, 0, 0),\n",
       "       datetime.datetime(2017, 2, 6, 0, 0),\n",
       "       datetime.datetime(2017, 2, 7, 0, 0),\n",
       "       datetime.datetime(2017, 2, 8, 0, 0),\n",
       "       datetime.datetime(2017, 2, 9, 0, 0),\n",
       "       datetime.datetime(2017, 2, 10, 0, 0),\n",
       "       datetime.datetime(2018, 1, 10, 0, 0),\n",
       "       datetime.datetime(2015, 3, 1, 0, 0),\n",
       "       datetime.datetime(2015, 3, 2, 0, 0),\n",
       "       datetime.datetime(2015, 3, 3, 0, 0),\n",
       "       datetime.datetime(2015, 3, 4, 0, 0),\n",
       "       datetime.datetime(2015, 3, 5, 0, 0),\n",
       "       datetime.datetime(2015, 8, 9, 0, 0),\n",
       "       datetime.datetime(2016, 1, 1, 0, 0),\n",
       "       datetime.datetime(2016, 1, 2, 0, 0),\n",
       "       datetime.datetime(2016, 1, 3, 0, 0),\n",
       "       datetime.datetime(2017, 2, 6, 0, 0),\n",
       "       datetime.datetime(2017, 2, 7, 0, 0),\n",
       "       datetime.datetime(2017, 2, 8, 0, 0),\n",
       "       datetime.datetime(2017, 2, 9, 0, 0),\n",
       "       datetime.datetime(2017, 2, 10, 0, 0),\n",
       "       datetime.datetime(2017, 3, 9, 0, 0),\n",
       "       datetime.datetime(2018, 3, 18, 0, 0),\n",
       "       datetime.datetime(2018, 3, 19, 0, 0),\n",
       "       datetime.datetime(2018, 3, 20, 0, 0),\n",
       "       datetime.datetime(2018, 3, 21, 0, 0),\n",
       "       datetime.datetime(2018, 3, 22, 0, 0),\n",
       "       datetime.datetime(2015, 6, 25, 0, 0),\n",
       "       datetime.datetime(2016, 4, 4, 0, 0),\n",
       "       datetime.datetime(2016, 4, 5, 0, 0),\n",
       "       datetime.datetime(2016, 4, 6, 0, 0),\n",
       "       datetime.datetime(2016, 4, 7, 0, 0),\n",
       "       datetime.datetime(2016, 4, 8, 0, 0),\n",
       "       datetime.datetime(2016, 12, 5, 0, 0),\n",
       "       datetime.datetime(2016, 12, 6, 0, 0),\n",
       "       datetime.datetime(2016, 12, 7, 0, 0),\n",
       "       datetime.datetime(2016, 12, 8, 0, 0),\n",
       "       datetime.datetime(2016, 12, 9, 0, 0),\n",
       "       datetime.datetime(2017, 2, 2, 0, 0),\n",
       "       datetime.datetime(2017, 2, 3, 0, 0),\n",
       "       datetime.datetime(2017, 2, 4, 0, 0),\n",
       "       datetime.datetime(2017, 2, 5, 0, 0),\n",
       "       datetime.datetime(2017, 2, 6, 0, 0),\n",
       "       datetime.datetime(2017, 2, 7, 0, 0),\n",
       "       datetime.datetime(2017, 2, 8, 0, 0),\n",
       "       datetime.datetime(2017, 5, 8, 0, 0),\n",
       "       datetime.datetime(2017, 5, 9, 0, 0),\n",
       "       datetime.datetime(2017, 5, 10, 0, 0),\n",
       "       datetime.datetime(2017, 5, 11, 0, 0),\n",
       "       datetime.datetime(2017, 5, 12, 0, 0),\n",
       "       datetime.datetime(2017, 6, 5, 0, 0),\n",
       "       datetime.datetime(2017, 6, 6, 0, 0),\n",
       "       datetime.datetime(2017, 6, 7, 0, 0),\n",
       "       datetime.datetime(2017, 6, 8, 0, 0),\n",
       "       datetime.datetime(2017, 6, 9, 0, 0),\n",
       "       datetime.datetime(2017, 12, 1, 0, 0),\n",
       "       datetime.datetime(2017, 12, 2, 0, 0),\n",
       "       datetime.datetime(2017, 12, 3, 0, 0),\n",
       "       datetime.datetime(2017, 12, 4, 0, 0),\n",
       "       datetime.datetime(2017, 12, 5, 0, 0),\n",
       "       datetime.datetime(2017, 12, 6, 0, 0),\n",
       "       datetime.datetime(2017, 12, 7, 0, 0),\n",
       "       datetime.datetime(2017, 12, 8, 0, 0),\n",
       "       datetime.datetime(2018, 1, 10, 0, 0),\n",
       "       datetime.datetime(2018, 4, 16, 0, 0),\n",
       "       datetime.datetime(2018, 4, 17, 0, 0),\n",
       "       datetime.datetime(2018, 4, 18, 0, 0),\n",
       "       datetime.datetime(2018, 4, 19, 0, 0),\n",
       "       datetime.datetime(2018, 4, 20, 0, 0), '6/11/17', '5/19/2018',\n",
       "       '5/20/2018', '5/21/2019', '5/22/2019', '5/23/2019', '5/24/2020',\n",
       "       '5/19/2018', '5/20/2018', '5/21/2019', '5/22/2019', '5/23/2019',\n",
       "       '5/24/2020', '5/19/2018', '5/20/2018', '5/21/2019', '5/22/2019',\n",
       "       '5/23/2019', '5/24/2020', '5/19/2018', '5/20/2018', '5/21/2019',\n",
       "       '5/22/2019', '5/23/2019', '5/24/2020', '5/19/2018', '5/20/2018',\n",
       "       '5/21/2019', '5/22/2019', '5/23/2019', '5/24/2020', '5/19/2018',\n",
       "       '5/20/2018', '5/21/2019', '5/22/2019', '5/23/2019', '5/24/2020',\n",
       "       '5/19/2018', '5/20/2018', '5/21/2019', '5/22/2019', '5/23/2019',\n",
       "       '5/24/2020', '5/19/2018', '5/20/2018', '5/21/2019', '5/22/2019',\n",
       "       '5/23/2019', '5/24/2020', datetime.datetime(2018, 2, 22, 0, 0)],\n",
       "      dtype=object)"
      ]
     },
     "execution_count": 25,
     "metadata": {},
     "output_type": "execute_result"
    }
   ],
   "source": [
    "df_immig_raid['arrestdate'].values"
   ]
  },
  {
   "cell_type": "code",
   "execution_count": 98,
   "metadata": {},
   "outputs": [
    {
     "data": {
      "text/plain": [
       "np.False_"
      ]
     },
     "execution_count": 98,
     "metadata": {},
     "output_type": "execute_result"
    }
   ],
   "source": [
    "df_immig_raid['arrestdate'].isna().any()"
   ]
  },
  {
   "cell_type": "markdown",
   "metadata": {},
   "source": [
    "It seems that there are multiple types of formats for specifying the date. The format must be consistent. Let's first try to understand the general format. By looking at value_counts() result, it appears that month/day/year is the general format. But this needs to be checked:"
   ]
  },
  {
   "cell_type": "code",
   "execution_count": 55,
   "metadata": {},
   "outputs": [
    {
     "data": {
      "text/plain": [
       "arrestdate\n",
       "0    418\n",
       "1    362\n",
       "Name: count, dtype: int64"
      ]
     },
     "execution_count": 55,
     "metadata": {},
     "output_type": "execute_result"
    }
   ],
   "source": [
    "df_immig_raid['arrestdate'].apply(lambda x: 0 if type(x)==datetime.datetime else (1 if \"/\" in x else 2)).value_counts()\n"
   ]
  },
  {
   "cell_type": "markdown",
   "metadata": {},
   "source": [
    "O represents the elements of the attribute that has the type datetime.datetime. And, 1 represents the elements that is in the format, month/day/year. And, 2 represents the ones that satisfies the neither of the conditions."
   ]
  },
  {
   "cell_type": "markdown",
   "metadata": {},
   "source": [
    "So, there are two different datatypes in this attrbiute. One of it is in the format month/day/year and the other one has type datetime.datetime. After counting them, the ones that have datetime.datetime type dominates this attribute. We could make this as the fixed data type of the attribute. But, it seems that datetime.datetime also gives the hour, minute and second information and they don't give any relevant information, since their values are apperas to be zero in all the cases. Let's see if that's the case:"
   ]
  },
  {
   "cell_type": "code",
   "execution_count": 123,
   "metadata": {},
   "outputs": [
    {
     "data": {
      "text/plain": [
       "arrestdate\n",
       "False    418\n",
       "-1       362\n",
       "Name: count, dtype: int64"
      ]
     },
     "execution_count": 123,
     "metadata": {},
     "output_type": "execute_result"
    }
   ],
   "source": [
    "df_immig_raid['arrestdate'].apply(lambda x: not (x.hour==0 and x.minute==0 and x.second==0) if type(x)==datetime.datetime else -1).value_counts()\n"
   ]
  },
  {
   "cell_type": "markdown",
   "metadata": {},
   "source": [
    "As can be seen above, hour, minute and second information is not given, yet replaced with the placeholder value 0. So, we can set the attribute's fix format as month/day/year."
   ]
  },
  {
   "cell_type": "code",
   "execution_count": 84,
   "metadata": {},
   "outputs": [],
   "source": [
    "df_immig_raid['arrestdate_start'] = df_immig_raid['arrestdate'].apply(lambda x: f\"{x.month}/{x.day}/{str(x.year)[-2:]}\" if type(x)==datetime.datetime else x)\n"
   ]
  },
  {
   "cell_type": "code",
   "execution_count": 88,
   "metadata": {
    "scrolled": false
   },
   "outputs": [
    {
     "data": {
      "text/plain": [
       "0        10/1/14\n",
       "1        2/11/18\n",
       "2        2/12/18\n",
       "3        2/13/18\n",
       "4        2/14/18\n",
       "         ...    \n",
       "775    5/21/2019\n",
       "776    5/22/2019\n",
       "777    5/23/2019\n",
       "778    5/24/2020\n",
       "779      2/22/18\n",
       "Name: arrestdate_start, Length: 780, dtype: object"
      ]
     },
     "execution_count": 88,
     "metadata": {},
     "output_type": "execute_result"
    }
   ],
   "source": [
    "df_immig_raid['arrestdate_start']"
   ]
  },
  {
   "cell_type": "markdown",
   "metadata": {},
   "source": [
    "Now we are sure that the format of the data is month/day/year. But, it seems that some of them give the year information in thousands. Since we already know that we are investigating cases from 2014 to 2018, we can give the year in two digits."
   ]
  },
  {
   "cell_type": "code",
   "execution_count": 92,
   "metadata": {},
   "outputs": [],
   "source": [
    "df_immig_raid['arrestdate_start']=df_immig_raid['arrestdate_start'].apply(lambda x: re.sub(r\"(\\w+)/(\\w+)/(\\w+)\", r\"\\1/\\2\", x) + f\"/{x[-2:]}\" if len(re.sub(r\"(\\w+)/(\\w+)/(\\w+)\", r\"\\3\", x))==4 else x)\n"
   ]
  },
  {
   "cell_type": "code",
   "execution_count": 93,
   "metadata": {},
   "outputs": [
    {
     "data": {
      "text/plain": [
       "0      10/1/14\n",
       "1      2/11/18\n",
       "2      2/12/18\n",
       "3      2/13/18\n",
       "4      2/14/18\n",
       "        ...   \n",
       "775    5/21/19\n",
       "776    5/22/19\n",
       "777    5/23/19\n",
       "778    5/24/20\n",
       "779    2/22/18\n",
       "Name: arrestdate_start, Length: 780, dtype: object"
      ]
     },
     "execution_count": 93,
     "metadata": {},
     "output_type": "execute_result"
    }
   ],
   "source": [
    "df_immig_raid['arrestdate_start']"
   ]
  },
  {
   "cell_type": "markdown",
   "metadata": {},
   "source": [
    "The name of the attribute is now arrestdate_start, because it is more descriptive then arrestdate."
   ]
  },
  {
   "cell_type": "markdown",
   "metadata": {},
   "source": [
    "## For 'date_end' attribute:"
   ]
  },
  {
   "cell_type": "code",
   "execution_count": 94,
   "metadata": {
    "scrolled": false
   },
   "outputs": [
    {
     "data": {
      "text/plain": [
       "date_end\n",
       "2016-09-23 00:00:00    114\n",
       "2018-05-24 00:00:00     90\n",
       "6/13/2016               73\n",
       "2017-02-10 00:00:00     56\n",
       "2017-09-27 00:00:00     49\n",
       "                      ... \n",
       "2017-02-17 00:00:00      1\n",
       "2016-02-23 00:00:00      1\n",
       "2017-02-06 00:00:00      1\n",
       "2017-03-09 00:00:00      1\n",
       "2018-02-22 00:00:00      1\n",
       "Name: count, Length: 76, dtype: int64"
      ]
     },
     "execution_count": 94,
     "metadata": {},
     "output_type": "execute_result"
    }
   ],
   "source": [
    "df_immig_raid['date_end'].value_counts()"
   ]
  },
  {
   "cell_type": "code",
   "execution_count": 101,
   "metadata": {},
   "outputs": [
    {
     "data": {
      "text/plain": [
       "np.True_"
      ]
     },
     "execution_count": 101,
     "metadata": {},
     "output_type": "execute_result"
    }
   ],
   "source": [
    "df_immig_raid['date_end'].isna().any()"
   ]
  },
  {
   "cell_type": "code",
   "execution_count": 120,
   "metadata": {},
   "outputs": [],
   "source": [
    "def check(x):\n",
    "    if type(x)==datetime.datetime:\n",
    "        return 0\n",
    "    elif type(x)==float:\n",
    "        return 1\n",
    "    elif \"/\" in x:\n",
    "        return 2\n",
    "    else:\n",
    "        return 3\n",
    "    "
   ]
  },
  {
   "cell_type": "markdown",
   "metadata": {},
   "source": [
    "This attribute has similar traits as the 'arrestdate' attribute. But now there are some null values in it. I will do the same analysis as I did for 'arrestdate' attribute:"
   ]
  },
  {
   "cell_type": "code",
   "execution_count": 121,
   "metadata": {},
   "outputs": [
    {
     "data": {
      "text/plain": [
       "date_end\n",
       "0    666\n",
       "2    107\n",
       "1      7\n",
       "Name: count, dtype: int64"
      ]
     },
     "execution_count": 121,
     "metadata": {},
     "output_type": "execute_result"
    }
   ],
   "source": [
    "df_immig_raid['date_end'].apply(check).value_counts()\n",
    "\n"
   ]
  },
  {
   "cell_type": "markdown",
   "metadata": {},
   "source": [
    "O represents the elements of the attribute that has the type datetime.datetime. And, 1 represents the null elements. And, 2 represents the ones that is in the format month/day/year. 3 otherwise.\n"
   ]
  },
  {
   "cell_type": "code",
   "execution_count": 124,
   "metadata": {},
   "outputs": [
    {
     "data": {
      "text/plain": [
       "date_end\n",
       "False    666\n",
       "-1       114\n",
       "Name: count, dtype: int64"
      ]
     },
     "execution_count": 124,
     "metadata": {},
     "output_type": "execute_result"
    }
   ],
   "source": [
    "df_immig_raid['date_end'].apply(lambda x: not (x.hour==0 and x.minute==0 and x.second==0) if type(x)==datetime.datetime else -1).value_counts()\n"
   ]
  },
  {
   "cell_type": "markdown",
   "metadata": {},
   "source": [
    "Similarly, no information regarding the time is given."
   ]
  },
  {
   "cell_type": "code",
   "execution_count": 125,
   "metadata": {},
   "outputs": [],
   "source": [
    "df_immig_raid['arrestdate_end'] = df_immig_raid['date_end'].apply(lambda x: f\"{x.month}/{x.day}/{str(x.year)[-2:]}\" if type(x)==datetime.datetime else x)\n"
   ]
  },
  {
   "cell_type": "code",
   "execution_count": 129,
   "metadata": {},
   "outputs": [],
   "source": [
    "df_immig_raid['arrestdate_end'] = df_immig_raid['date_end'].apply(lambda x: f\"{x.month}/{x.day}/{str(x.year)[-2:]}\" if type(x)==datetime.datetime else x)\n",
    "\n"
   ]
  },
  {
   "cell_type": "code",
   "execution_count": 132,
   "metadata": {},
   "outputs": [],
   "source": [
    "df_immig_raid['arrestdate_end']=df_immig_raid['arrestdate_end'].apply(lambda x: re.sub(r\"(\\w+)/(\\w+)/(\\w+)\", r\"\\1/\\2\", x) + f\"/{x[-2:]}\" if type(x)!=float and len(re.sub(r\"(\\w+)/(\\w+)/(\\w+)\", r\"\\3\", x))==4 else x)\n"
   ]
  },
  {
   "cell_type": "code",
   "execution_count": 135,
   "metadata": {},
   "outputs": [
    {
     "data": {
      "text/plain": [
       "0      10/1/14\n",
       "1      2/15/18\n",
       "2      2/15/18\n",
       "3      2/15/18\n",
       "4      2/15/18\n",
       "        ...   \n",
       "775    5/24/18\n",
       "776    5/24/18\n",
       "777    5/24/18\n",
       "778    5/24/18\n",
       "779    2/22/18\n",
       "Name: arrestdate_end, Length: 780, dtype: object"
      ]
     },
     "execution_count": 135,
     "metadata": {},
     "output_type": "execute_result"
    }
   ],
   "source": [
    "df_immig_raid['arrestdate_end']"
   ]
  },
  {
   "cell_type": "code",
   "execution_count": null,
   "metadata": {},
   "outputs": [],
   "source": []
  },
  {
   "cell_type": "markdown",
   "metadata": {},
   "source": [
    "## For 'CountyName' attribute:"
   ]
  },
  {
   "cell_type": "code",
   "execution_count": 137,
   "metadata": {},
   "outputs": [
    {
     "data": {
      "text/plain": [
       "CountyName\n",
       "Cook               49\n",
       "York               49\n",
       "Camden             42\n",
       "Prince George's    38\n",
       "outagamie          37\n",
       "                   ..\n",
       "Tulsa               1\n",
       "Harris              1\n",
       "Talbot              1\n",
       "Wayne               1\n",
       "Leake               1\n",
       "Name: count, Length: 88, dtype: int64"
      ]
     },
     "execution_count": 137,
     "metadata": {},
     "output_type": "execute_result"
    }
   ],
   "source": [
    "df_immig_raid['CountyName'].value_counts()"
   ]
  },
  {
   "cell_type": "code",
   "execution_count": 145,
   "metadata": {},
   "outputs": [
    {
     "data": {
      "text/plain": [
       "np.False_"
      ]
     },
     "execution_count": 145,
     "metadata": {},
     "output_type": "execute_result"
    }
   ],
   "source": [
    "df_immig_raid['CountyName'].isna().any()"
   ]
  },
  {
   "cell_type": "markdown",
   "metadata": {},
   "source": [
    "This attribute looks fine but some of the name of counties don't start with capital name. Let's fix this:"
   ]
  },
  {
   "cell_type": "code",
   "execution_count": 178,
   "metadata": {},
   "outputs": [],
   "source": [
    "df_immig_raid['CountyName'] = df_immig_raid['CountyName'].apply(lambda x: x[0].upper() + x[1:] if not (x[0].isupper()) else x)\n",
    "                                                            \n",
    "                                                                "
   ]
  },
  {
   "cell_type": "code",
   "execution_count": 179,
   "metadata": {},
   "outputs": [
    {
     "data": {
      "text/plain": [
       "CountyName\n",
       "Cook               49\n",
       "York               49\n",
       "Outagamie          44\n",
       "Camden             42\n",
       "Prince George's    38\n",
       "                   ..\n",
       "Tulsa               1\n",
       "Harris              1\n",
       "Talbot              1\n",
       "Wayne               1\n",
       "Leake               1\n",
       "Name: count, Length: 87, dtype: int64"
      ]
     },
     "execution_count": 179,
     "metadata": {},
     "output_type": "execute_result"
    }
   ],
   "source": [
    "df_immig_raid['CountyName'].value_counts()"
   ]
  },
  {
   "cell_type": "code",
   "execution_count": null,
   "metadata": {},
   "outputs": [],
   "source": []
  },
  {
   "cell_type": "markdown",
   "metadata": {},
   "source": [
    "## For 'ST' attribute:"
   ]
  },
  {
   "cell_type": "code",
   "execution_count": 140,
   "metadata": {},
   "outputs": [
    {
     "data": {
      "text/plain": [
       "ST\n",
       "IL    127\n",
       "VA    120\n",
       "WI     80\n",
       "MD     63\n",
       "CA     63\n",
       "PA     52\n",
       "TX     44\n",
       "NJ     42\n",
       "FL     40\n",
       "CO     24\n",
       "GA     22\n",
       "UT     15\n",
       "NY     14\n",
       "NM     11\n",
       "NC     10\n",
       "KY     10\n",
       "KS      9\n",
       "IN      7\n",
       "MS      6\n",
       "MI      4\n",
       "WY      4\n",
       "DC      4\n",
       "WA      3\n",
       "OK      2\n",
       "TN      2\n",
       "OR      1\n",
       "IA      1\n",
       "Name: count, dtype: int64"
      ]
     },
     "execution_count": 140,
     "metadata": {},
     "output_type": "execute_result"
    }
   ],
   "source": [
    "df_immig_raid['ST'].value_counts()"
   ]
  },
  {
   "cell_type": "code",
   "execution_count": 146,
   "metadata": {},
   "outputs": [
    {
     "data": {
      "text/plain": [
       "np.False_"
      ]
     },
     "execution_count": 146,
     "metadata": {},
     "output_type": "execute_result"
    }
   ],
   "source": [
    "df_immig_raid['ST'].isna().any()"
   ]
  },
  {
   "cell_type": "markdown",
   "metadata": {},
   "source": [
    "This attribute looks fine as well."
   ]
  },
  {
   "cell_type": "code",
   "execution_count": null,
   "metadata": {},
   "outputs": [],
   "source": []
  },
  {
   "cell_type": "markdown",
   "metadata": {},
   "source": [
    "## For 'arrests' attribute:"
   ]
  },
  {
   "cell_type": "code",
   "execution_count": 143,
   "metadata": {
    "scrolled": true
   },
   "outputs": [
    {
     "data": {
      "text/plain": [
       "arrests\n",
       "6.0      109\n",
       "1.0       62\n",
       "4.0       60\n",
       "156.0     42\n",
       "5.0       31\n",
       "12.0      24\n",
       "11.0      22\n",
       "21.0      22\n",
       "27.0      15\n",
       "2.0       13\n",
       "16.0      13\n",
       "35.0      11\n",
       "26.0      10\n",
       "99.0       9\n",
       "161.0      9\n",
       "3.0        8\n",
       "48.0       7\n",
       "17.0       6\n",
       "101.0      6\n",
       "0.0        6\n",
       "111.0      6\n",
       "7.0        6\n",
       "20.0       6\n",
       "14.0       6\n",
       "93.0       5\n",
       "212.0      5\n",
       "56.0       4\n",
       "30.0       4\n",
       "15.0       2\n",
       "9.0        1\n",
       "54.0       1\n",
       "80.0       1\n",
       "Name: count, dtype: int64"
      ]
     },
     "execution_count": 143,
     "metadata": {},
     "output_type": "execute_result"
    }
   ],
   "source": [
    "df_immig_raid['arrests'].value_counts()"
   ]
  },
  {
   "cell_type": "code",
   "execution_count": 159,
   "metadata": {},
   "outputs": [
    {
     "data": {
      "text/plain": [
       "np.True_"
      ]
     },
     "execution_count": 159,
     "metadata": {},
     "output_type": "execute_result"
    }
   ],
   "source": [
    "df_immig_raid['arrests'].isna().any()"
   ]
  },
  {
   "cell_type": "code",
   "execution_count": 189,
   "metadata": {},
   "outputs": [
    {
     "data": {
      "text/plain": [
       "arrests\n",
       "False    532\n",
       "True     248\n",
       "Name: count, dtype: int64"
      ]
     },
     "execution_count": 189,
     "metadata": {},
     "output_type": "execute_result"
    }
   ],
   "source": [
    "df_immig_raid['arrests'].isna().value_counts()"
   ]
  },
  {
   "cell_type": "code",
   "execution_count": null,
   "metadata": {},
   "outputs": [],
   "source": []
  },
  {
   "cell_type": "markdown",
   "metadata": {},
   "source": [
    "## For 'arrests_total' attribute:"
   ]
  },
  {
   "cell_type": "code",
   "execution_count": 161,
   "metadata": {
    "scrolled": true
   },
   "outputs": [
    {
     "data": {
      "text/plain": [
       "arrests_total\n",
       "1.0       126\n",
       "156.0      90\n",
       "39.0       75\n",
       "2059.0     50\n",
       "498.0      37\n",
       "235.0      27\n",
       "4.0        27\n",
       "82.0       23\n",
       "315.0      19\n",
       "1133.0     14\n",
       "64.0       12\n",
       "24.0       12\n",
       "52.0       11\n",
       "680.0      11\n",
       "36.0       10\n",
       "188.0      10\n",
       "212.0       9\n",
       "271.0       9\n",
       "161.0       9\n",
       "55.0        9\n",
       "248.0       8\n",
       "101.0       8\n",
       "51.0        8\n",
       "84.0        8\n",
       "244.0       7\n",
       "121.0       6\n",
       "86.0        6\n",
       "89.0        6\n",
       "11.0        6\n",
       "50.0        6\n",
       "2.0         5\n",
       "5.0         5\n",
       "44.0        5\n",
       "14.0        5\n",
       "60.0        5\n",
       "113.0       5\n",
       "190.0       5\n",
       "1300.0      5\n",
       "6.0         4\n",
       "27.0        4\n",
       "76.0        4\n",
       "100.0       4\n",
       "30.0        4\n",
       "21.0        3\n",
       "81.0        2\n",
       "7.0         2\n",
       "450.0       2\n",
       "10.0        2\n",
       "3.0         2\n",
       "97.0        2\n",
       "12.0        2\n",
       "9.0         1\n",
       "331.0       1\n",
       "20.0        1\n",
       "32.0        1\n",
       "40.0        1\n",
       "69.0        1\n",
       "80.0        1\n",
       "Name: count, dtype: int64"
      ]
     },
     "execution_count": 161,
     "metadata": {},
     "output_type": "execute_result"
    }
   ],
   "source": [
    "df_immig_raid['arrests_total'].value_counts()"
   ]
  },
  {
   "cell_type": "code",
   "execution_count": 164,
   "metadata": {},
   "outputs": [
    {
     "data": {
      "text/plain": [
       "np.True_"
      ]
     },
     "execution_count": 164,
     "metadata": {},
     "output_type": "execute_result"
    }
   ],
   "source": [
    "df_immig_raid['arrests_total'].isna().any()"
   ]
  },
  {
   "cell_type": "code",
   "execution_count": 190,
   "metadata": {},
   "outputs": [
    {
     "data": {
      "text/plain": [
       "arrests_total\n",
       "False    743\n",
       "True      37\n",
       "Name: count, dtype: int64"
      ]
     },
     "execution_count": 190,
     "metadata": {},
     "output_type": "execute_result"
    }
   ],
   "source": [
    "df_immig_raid['arrests_total'].isna().value_counts()"
   ]
  },
  {
   "cell_type": "code",
   "execution_count": null,
   "metadata": {},
   "outputs": [],
   "source": []
  },
  {
   "cell_type": "markdown",
   "metadata": {},
   "source": [
    "## For 'durationofraid' attribute:"
   ]
  },
  {
   "cell_type": "code",
   "execution_count": 165,
   "metadata": {
    "scrolled": true
   },
   "outputs": [
    {
     "data": {
      "text/plain": [
       "durationofraid\n",
       "5.0      128\n",
       "51.0     110\n",
       "6.0      103\n",
       "34.0      74\n",
       "4.0       67\n",
       "7.0       35\n",
       "1.0       30\n",
       "26.0      28\n",
       "153.0     24\n",
       "16.0      22\n",
       "35.0      19\n",
       "21.0      19\n",
       "3.0       19\n",
       "8.0       16\n",
       "11.0      12\n",
       "12.0      10\n",
       "235.0     10\n",
       "50.0       5\n",
       "29.0       4\n",
       "81.0       2\n",
       "10.0       2\n",
       "32.0       1\n",
       "40.0       1\n",
       "97.0       1\n",
       "Name: count, dtype: int64"
      ]
     },
     "execution_count": 165,
     "metadata": {},
     "output_type": "execute_result"
    }
   ],
   "source": [
    "df_immig_raid['durationofraid'].value_counts()"
   ]
  },
  {
   "cell_type": "code",
   "execution_count": 166,
   "metadata": {},
   "outputs": [
    {
     "data": {
      "text/plain": [
       "np.True_"
      ]
     },
     "execution_count": 166,
     "metadata": {},
     "output_type": "execute_result"
    }
   ],
   "source": [
    "df_immig_raid['durationofraid'].isna().any()"
   ]
  },
  {
   "cell_type": "code",
   "execution_count": 191,
   "metadata": {},
   "outputs": [
    {
     "data": {
      "text/plain": [
       "durationofraid\n",
       "False    742\n",
       "True      38\n",
       "Name: count, dtype: int64"
      ]
     },
     "execution_count": 191,
     "metadata": {},
     "output_type": "execute_result"
    }
   ],
   "source": [
    "df_immig_raid['durationofraid'].isna().value_counts()"
   ]
  },
  {
   "cell_type": "code",
   "execution_count": null,
   "metadata": {},
   "outputs": [],
   "source": []
  },
  {
   "cell_type": "markdown",
   "metadata": {},
   "source": [
    "## For 'city' attribute:"
   ]
  },
  {
   "cell_type": "code",
   "execution_count": 168,
   "metadata": {},
   "outputs": [
    {
     "data": {
      "text/plain": [
       "city\n",
       "seymour            37\n",
       "Chicago            33\n",
       "Springgettsbury    22\n",
       "Joliet             18\n",
       "Austin             16\n",
       "                   ..\n",
       "Tulsa               1\n",
       "Morristown          1\n",
       "Atlanta             1\n",
       "Lakewood            1\n",
       "detroit             1\n",
       "Name: count, Length: 82, dtype: int64"
      ]
     },
     "execution_count": 168,
     "metadata": {},
     "output_type": "execute_result"
    }
   ],
   "source": [
    "df_immig_raid['city'].value_counts()"
   ]
  },
  {
   "cell_type": "code",
   "execution_count": 181,
   "metadata": {},
   "outputs": [
    {
     "data": {
      "text/plain": [
       "np.True_"
      ]
     },
     "execution_count": 181,
     "metadata": {},
     "output_type": "execute_result"
    }
   ],
   "source": [
    "df_immig_raid['city'].isna().any()"
   ]
  },
  {
   "cell_type": "code",
   "execution_count": 192,
   "metadata": {},
   "outputs": [
    {
     "data": {
      "text/plain": [
       "city\n",
       "False    481\n",
       "True     299\n",
       "Name: count, dtype: int64"
      ]
     },
     "execution_count": 192,
     "metadata": {},
     "output_type": "execute_result"
    }
   ],
   "source": [
    "df_immig_raid['city'].isna().value_counts()"
   ]
  },
  {
   "cell_type": "markdown",
   "metadata": {},
   "source": [
    "This attribute looks fine. But some of the city names don't start witha capital letter. Let's fix that:"
   ]
  },
  {
   "cell_type": "code",
   "execution_count": 185,
   "metadata": {},
   "outputs": [],
   "source": [
    "df_immig_raid['city'] = df_immig_raid['city'].apply(lambda x: x[0].upper() + x[1:] if type(x)!=float and not (x[0].isupper()) else x)\n",
    "                                                            \n",
    "                                                                "
   ]
  },
  {
   "cell_type": "code",
   "execution_count": 186,
   "metadata": {},
   "outputs": [
    {
     "data": {
      "text/plain": [
       "city\n",
       "Seymour            37\n",
       "Chicago            33\n",
       "Springgettsbury    22\n",
       "Joliet             18\n",
       "Austin             16\n",
       "                   ..\n",
       "Tulsa               1\n",
       "Morristown          1\n",
       "Atlanta             1\n",
       "Lakewood            1\n",
       "Detroit             1\n",
       "Name: count, Length: 82, dtype: int64"
      ]
     },
     "execution_count": 186,
     "metadata": {},
     "output_type": "execute_result"
    }
   ],
   "source": [
    "df_immig_raid['city'].value_counts()"
   ]
  },
  {
   "cell_type": "code",
   "execution_count": null,
   "metadata": {},
   "outputs": [],
   "source": []
  },
  {
   "cell_type": "markdown",
   "metadata": {},
   "source": [
    "## For 'city2' attribute:"
   ]
  },
  {
   "cell_type": "code",
   "execution_count": 187,
   "metadata": {
    "scrolled": true
   },
   "outputs": [
    {
     "data": {
      "text/plain": [
       "city2\n",
       "Cicero               22\n",
       "Bartlett             18\n",
       "Waco                 12\n",
       "Waukegan             12\n",
       "Naperville            6\n",
       "Berwyn                6\n",
       "Aurora                6\n",
       "Arlington Heights     6\n",
       "Chatham               6\n",
       "Collinsville          6\n",
       "Herdon                6\n",
       "Manassas              6\n",
       "New York              5\n",
       "Oxnard                5\n",
       "Camarillo             5\n",
       "Downey                4\n",
       "Thornton              4\n",
       "Kaufman               3\n",
       "Bakersfield           1\n",
       "Parkville             1\n",
       "Broken Arrow          1\n",
       "Hendersonville        1\n",
       "Dodge City            1\n",
       "Jersey City           1\n",
       "Name: count, dtype: int64"
      ]
     },
     "execution_count": 187,
     "metadata": {},
     "output_type": "execute_result"
    }
   ],
   "source": [
    "df_immig_raid['city2'].value_counts()"
   ]
  },
  {
   "cell_type": "code",
   "execution_count": 194,
   "metadata": {},
   "outputs": [
    {
     "data": {
      "text/plain": [
       "np.True_"
      ]
     },
     "execution_count": 194,
     "metadata": {},
     "output_type": "execute_result"
    }
   ],
   "source": [
    "df_immig_raid['city2'].isna().any()"
   ]
  },
  {
   "cell_type": "code",
   "execution_count": 196,
   "metadata": {},
   "outputs": [
    {
     "data": {
      "text/plain": [
       "city2\n",
       "True     636\n",
       "False    144\n",
       "Name: count, dtype: int64"
      ]
     },
     "execution_count": 196,
     "metadata": {},
     "output_type": "execute_result"
    }
   ],
   "source": [
    "df_immig_raid['city2'].isna().value_counts()"
   ]
  },
  {
   "cell_type": "code",
   "execution_count": null,
   "metadata": {},
   "outputs": [],
   "source": []
  },
  {
   "cell_type": "markdown",
   "metadata": {},
   "source": [
    "## For 'city3' attribute:"
   ]
  },
  {
   "cell_type": "code",
   "execution_count": 198,
   "metadata": {
    "scrolled": true
   },
   "outputs": [
    {
     "data": {
      "text/plain": [
       "city3\n",
       "Deerfield                                                                                                                                                                                                                                                                                                                     14\n",
       "Bartlett, Berkley, Berwyn, Blue Island, Bridgeview, Burbank,  Chicago Ridge, Cicero, Des Plaines, Elgin, Hanover Park, Hoffman Estates, Elgin, Markham, Melrose Park, Rolling Meadows, Skokie, Wheeling, Mt. Prospect, Northfield, North Riverside, Orland Park, Palatine, Rolling Meadows, Rosemont, Stickney, Stone Park     6\n",
       "Elgin, Estates, Geneva, St. Charles                                                                                                                                                                                                                                                                                            6\n",
       "Berkley,  Blue Island, Bridgeview, Burbank, Chicago Ridge, Cicero, Des Plaines, Elgin, Estates, Mt. Prospect, Northfield, North Riverside, Orland Park, Palatine, Rolling Meadows, Rosemont, Stickney, Stone Park                                                                                                              6\n",
       "Bartlett, Bolingbrook, Carol Stream, Hanover Park, Naperville, St. Charles, Warrenville, Wheaton                                                                                                                                                                                                                               6\n",
       "Elgin, Geneva, St. Charles                                                                                                                                                                                                                                                                                                     6\n",
       "Woodbridge                                                                                                                                                                                                                                                                                                                     6\n",
       "Danville                                                                                                                                                                                                                                                                                                                       6\n",
       "Bassett                                                                                                                                                                                                                                                                                                                        6\n",
       "Chantilly                                                                                                                                                                                                                                                                                                                      6\n",
       "Bolingbrook, Carol Stream, Hanover Park, Naperville, St. Charles, Warrenville, West Chicago, Wheaton                                                                                                                                                                                                                           6\n",
       "Santa Paula                                                                                                                                                                                                                                                                                                                    5\n",
       "Atlanta                                                                                                                                                                                                                                                                                                                        5\n",
       "Commerce                                                                                                                                                                                                                                                                                                                       4\n",
       "Oxnard                                                                                                                                                                                                                                                                                                                         1\n",
       "Owings Mills                                                                                                                                                                                                                                                                                                                   1\n",
       "Garden city                                                                                                                                                                                                                                                                                                                    1\n",
       "Newark                                                                                                                                                                                                                                                                                                                         1\n",
       "Name: count, dtype: int64"
      ]
     },
     "execution_count": 198,
     "metadata": {},
     "output_type": "execute_result"
    }
   ],
   "source": [
    "df_immig_raid['city3'].value_counts()"
   ]
  },
  {
   "cell_type": "code",
   "execution_count": 199,
   "metadata": {},
   "outputs": [
    {
     "data": {
      "text/plain": [
       "np.True_"
      ]
     },
     "execution_count": 199,
     "metadata": {},
     "output_type": "execute_result"
    }
   ],
   "source": [
    "df_immig_raid['city3'].isna().any()"
   ]
  },
  {
   "cell_type": "code",
   "execution_count": 200,
   "metadata": {},
   "outputs": [
    {
     "data": {
      "text/plain": [
       "city3\n",
       "True     688\n",
       "False     92\n",
       "Name: count, dtype: int64"
      ]
     },
     "execution_count": 200,
     "metadata": {},
     "output_type": "execute_result"
    }
   ],
   "source": [
    "df_immig_raid['city3'].isna().value_counts()"
   ]
  },
  {
   "cell_type": "markdown",
   "metadata": {},
   "source": [
    "This seems to be a very unorganized attribute. So, no further modifications can be made without consultion with the client."
   ]
  },
  {
   "cell_type": "code",
   "execution_count": null,
   "metadata": {},
   "outputs": [],
   "source": []
  },
  {
   "cell_type": "markdown",
   "metadata": {},
   "source": [
    "## For 'location' attribute:"
   ]
  },
  {
   "cell_type": "code",
   "execution_count": 201,
   "metadata": {},
   "outputs": [
    {
     "data": {
      "text/plain": [
       "location\n",
       "nationwide                                                                                                                                                                                                                                                                                                                                                                                                                                                                          96\n",
       "six Midwestern states; statewide                                                                                                                                                                                                                                                                                                                                                                                                                                                    73\n",
       "Chicago area                                                                                                                                                                                                                                                                                                                                                                                                                                                                        48\n",
       "Aroma Buffet & Grill                                                                                                                                                                                                                                                                                                                                                                                                                                                                22\n",
       "statewide                                                                                                                                                                                                                                                                                                                                                                                                                                                                           18\n",
       "Statewide: New Jersey                                                                                                                                                                                                                                                                                                                                                                                                                                                               13\n",
       "North Texas and Oklahoma                                                                                                                                                                                                                                                                                                                                                                                                                                                            13\n",
       "New York                                                                                                                                                                                                                                                                                                                                                                                                                                                                             8\n",
       "Ridgeway, and Fieldale Virginia                                                                                                                                                                                                                                                                                                                                                                                                                                                      6\n",
       "Virginia, the District and Maryland                                                                                                                                                                                                                                                                                                                                                                                                                                                  5\n",
       "Southwest Virginia                                                                                                                                                                                                                                                                                                                                                                                                                                                                   5\n",
       "Southern California                                                                                                                                                                                                                                                                                                                                                                                                                                                                  5\n",
       "Langley Park apartment building                                                                                                                                                                                                                                                                                                                                                                                                                                                      5\n",
       "Georgia, North Carolina and South Carolina                                                                                                                                                                                                                                                                                                                                                                                                                                           5\n",
       "Newark, Long Island                                                                                                                                                                                                                                                                                                                                                                                                                                                                  5\n",
       "Statewide: New Jersey                                                                                                                                                                                                                                                                                                                                                                                                                                                                5\n",
       "SoCal                                                                                                                                                                                                                                                                                                                                                                                                                                                                                4\n",
       "Georgia, Texas and North Carolina                                                                                                                                                                                                                                                                                                                                                                                                                                                    3\n",
       "Pacific Northwest, in Alaska, Oregon, and Washington                                                                                                                                                                                                                                                                                                                                                                                                                                 3\n",
       "nationwide, 98 Seven Eleven                                                                                                                                                                                                                                                                                                                                                                                                                                                          2\n",
       "216 S State St. Ann Arbor                                                                                                                                                                                                                                                                                                                                                                                                                                                            1\n",
       "2 buses of  farmworkers, harvesting flowers                                                                                                                                                                                                                                                                                                                                                                                                                                          1\n",
       "Montezuma Mexican, 225 Buford Ave, Gettysburg                                                                                                                                                                                                                                                                                                                                                                                                                                        1\n",
       "Belmont and Milwaukee avenues                                                                                                                                                                                                                                                                                                                                                                                                                                                        1\n",
       "6100 block of West Grand Avenue, BELMONT CRAGIN IL                                                                                                                                                                                                                                                                                                                                                                                                                                   1\n",
       "BoatHouse Canton                                                                                                                                                                                                                                                                                                                                                                                                                                                                     1\n",
       "Bicycle Hotel & Casino                                                                                                                                                                                                                                                                                                                                                                                                                                                               1\n",
       "Los Angeles area of responsibility                                                                                                                                                                                                                                                                                                                                                                                                                                                   1\n",
       "Los Angeles fashion district                                                                                                                                                                                                                                                                                                                                                                                                                                                         1\n",
       "metro Detroit                                                                                                                                                                                                                                                                                                                                                                                                                                                                        1\n",
       "\"midwest\"                                                                                                                                                                                                                                                                                                                                                                                                                                                                            1\n",
       "Southeastern Provisions meat processing plant                                                                                                                                                                                                                                                                                                                                                                                                                                        1\n",
       "two Palmerton pizza shops                                                                                                                                                                                                                                                                                                                                                                                                                                                            1\n",
       "West Texas                                                                                                                                                                                                                                                                                                                                                                                                                                                                           1\n",
       "Meatpacking plant                                                                                                                                                                                                                                                                                                                                                                                                                                                                    1\n",
       "Montezuma Mexican                                                                                                                                                                                                                                                                                                                                                                                                                                                                    1\n",
       "Residential Home                                                                                                                                                                                                                                                                                                                                                                                                                                                                     1\n",
       "mobile home park, Las Cruces                                                                                                                                                                                                                                                                                                                                                                                                                                                         1\n",
       "K-Macho’s restaurant                                                                                                                                                                                                                                                                                                                                                                                                                                                                 1\n",
       "Chaldean Catholic Eparchy of St. Thomas the Apostle,  Southfield Michigan                                                                                                                                                                                                                                                                                                                                                                                                            1\n",
       "Midwest Precast Concrete plant, Mount Pleasant                                                                                                                                                                                                                                                                                                                                                                                                                                       1\n",
       "Rising Hope Mission Church                                                                                                                                                                                                                                                                                                                                                                                                                                                           1\n",
       "26 Florida counties, including 76 in Miami Dade, 65 in Broward, 27 in Duval, 17 in Palm Beach, 14 in Hillsborough, 10 in Orange, seven in Seminole, five in Manatee, five in Lee, four in Pinellas, four in Brevard, three in Polk, three in Indian River, two in Volusia, two in Bay, two in Martin, one in Escambia, one in Gadsden, one in Lake, one in Osceola, one in Sarasota, one in St. Lucie, one in Suwannee, 11 in Puerto Rico, and seven in the U.S. Virgin Islands.     1\n",
       "25 Florida counties, including 76 in Miami Dade, 65 in Broward, 27 in Duval, 17 in Palm Beach, 14 in Hillsborough, 10 in Orange, seven in Seminole, five in Manatee, five in Lee, four in Pinellas, four in Brevard, three in Polk, three in Indian River, two in Volusia, two in Bay, two in Martin, one in Escambia, one in Gadsden, one in Lake, one in Osceola, one in Sarasota, one in St. Lucie, one in Suwannee, 11 in Puerto Rico, and seven in the U.S. Virgin Islands.     1\n",
       "24 Florida counties, including 76 in Miami Dade, 65 in Broward, 27 in Duval, 17 in Palm Beach, 14 in Hillsborough, 10 in Orange, seven in Seminole, five in Manatee, five in Lee, four in Pinellas, four in Brevard, three in Polk, three in Indian River, two in Volusia, two in Bay, two in Martin, one in Escambia, one in Gadsden, one in Lake, one in Osceola, one in Sarasota, one in St. Lucie, one in Suwannee, 11 in Puerto Rico, and seven in the U.S. Virgin Islands.     1\n",
       "23 Florida counties, including 76 in Miami Dade, 65 in Broward, 27 in Duval, 17 in Palm Beach, 14 in Hillsborough, 10 in Orange, seven in Seminole, five in Manatee, five in Lee, four in Pinellas, four in Brevard, three in Polk, three in Indian River, two in Volusia, two in Bay, two in Martin, one in Escambia, one in Gadsden, one in Lake, one in Osceola, one in Sarasota, one in St. Lucie, one in Suwannee, 11 in Puerto Rico, and seven in the U.S. Virgin Islands.     1\n",
       "27 Florida counties, including 76 in Miami Dade, 65 in Broward, 27 in Duval, 17 in Palm Beach, 14 in Hillsborough, 10 in Orange, seven in Seminole, five in Manatee, five in Lee, four in Pinellas, four in Brevard, three in Polk, three in Indian River, two in Volusia, two in Bay, two in Martin, one in Escambia, one in Gadsden, one in Lake, one in Osceola, one in Sarasota, one in St. Lucie, one in Suwannee, 11 in Puerto Rico, and seven in the U.S. Virgin Islands.     1\n",
       "Trenton, Cherry Hill, Paterson, Secaucus and Elizabeth                                                                                                                                                                                                                                                                                                                                                                                                                               1\n",
       "Seven Eleven Stores Nationwide                                                                                                                                                                                                                                                                                                                                                                                                                                                       1\n",
       "detroit area                                                                                                                                                                                                                                                                                                                                                                                                                                                                         1\n",
       "Name: count, dtype: int64"
      ]
     },
     "execution_count": 201,
     "metadata": {},
     "output_type": "execute_result"
    }
   ],
   "source": [
    "df_immig_raid['location'].value_counts()"
   ]
  },
  {
   "cell_type": "code",
   "execution_count": null,
   "metadata": {},
   "outputs": [],
   "source": []
  },
  {
   "cell_type": "markdown",
   "metadata": {},
   "source": [
    "Similarly, this seems to be a very unorganized attribute. So, no further modifications can be made without consultion with the client."
   ]
  },
  {
   "cell_type": "code",
   "execution_count": null,
   "metadata": {},
   "outputs": [],
   "source": []
  },
  {
   "cell_type": "markdown",
   "metadata": {},
   "source": [
    "## For 'target' attribute:"
   ]
  },
  {
   "cell_type": "code",
   "execution_count": 202,
   "metadata": {},
   "outputs": [],
   "source": [
    "target_longname='target  (location targeted: 1=restaurant 2=mobile home park 3=courthouse 4=jail 5= county 6=city/town, 7= store/establishment 8=state 9=hotel 10=church 11=private home 12=agricultural business 13= hospital)'\n"
   ]
  },
  {
   "cell_type": "code",
   "execution_count": 203,
   "metadata": {},
   "outputs": [
    {
     "data": {
      "text/plain": [
       "target  (location targeted: 1=restaurant 2=mobile home park 3=courthouse 4=jail 5= county 6=city/town, 7= store/establishment 8=state 9=hotel 10=church 11=private home 12=agricultural business 13= hospital)\n",
       "8                               117\n",
       "Operation Cross Check            50\n",
       "Operation Keep Safe              48\n",
       "1, Operation Keep Safe           42\n",
       "Operation Safe City              40\n",
       "5                                40\n",
       "1                                28\n",
       "6                                23\n",
       "Operation Project Shadowfire     14\n",
       "Operation Safe Cities             9\n",
       "11                                9\n",
       "7                                 6\n",
       "6,9,                              5\n",
       "Operation Safe Haven              4\n",
       "12                                3\n",
       "10                                2\n",
       "9                                 2\n",
       "6                                 1\n",
       "13                                1\n",
       "2                                 1\n",
       "Operation No Safe Haven II        1\n",
       "Name: count, dtype: int64"
      ]
     },
     "execution_count": 203,
     "metadata": {},
     "output_type": "execute_result"
    }
   ],
   "source": [
    "df_immig_raid[target_longname].value_counts()"
   ]
  },
  {
   "cell_type": "code",
   "execution_count": 204,
   "metadata": {
    "scrolled": true
   },
   "outputs": [
    {
     "data": {
      "text/plain": [
       "np.True_"
      ]
     },
     "execution_count": 204,
     "metadata": {},
     "output_type": "execute_result"
    }
   ],
   "source": [
    "df_immig_raid[target_longname].isna().any()"
   ]
  },
  {
   "cell_type": "markdown",
   "metadata": {},
   "source": [
    "There are peculiarities in the table above. The first odd thing is that it includes encoders, numbers, and names at the same time. There must be a consistency (only numbers or only names). The other odd thing is that there are multi-valued isntances like \"6,9,\" and \"1, Operation Keep Safe\". Lastly, for whatever reason, there are two \"6\" values that are considered as different. There could be two reasons for that: first, one of them could be written as a number and the other one as string (their dtypes are different). Or the second scenario could be that there is a whitespace(s) after one of the 6.\n",
    "\n"
   ]
  },
  {
   "cell_type": "code",
   "execution_count": 220,
   "metadata": {},
   "outputs": [
    {
     "data": {
      "text/plain": [
       "7"
      ]
     },
     "execution_count": 220,
     "metadata": {},
     "output_type": "execute_result"
    }
   ],
   "source": [
    "df_immig_raid[target_longname].iloc[0]"
   ]
  },
  {
   "cell_type": "code",
   "execution_count": 221,
   "metadata": {},
   "outputs": [
    {
     "data": {
      "text/plain": [
       "'6'"
      ]
     },
     "execution_count": 221,
     "metadata": {},
     "output_type": "execute_result"
    }
   ],
   "source": [
    "df_immig_raid[target_longname].iloc[1]"
   ]
  },
  {
   "cell_type": "code",
   "execution_count": 227,
   "metadata": {},
   "outputs": [
    {
     "data": {
      "text/plain": [
       "9"
      ]
     },
     "execution_count": 227,
     "metadata": {},
     "output_type": "execute_result"
    }
   ],
   "source": [
    "df_immig_raid[target_longname].iloc[6]"
   ]
  },
  {
   "cell_type": "markdown",
   "metadata": {},
   "source": [
    "It can be seen that some of the numbers are stored as integers and the others as strings."
   ]
  },
  {
   "cell_type": "markdown",
   "metadata": {},
   "source": [
    "I will replace the encoders with their original names. This is because I think it is more descriptive to do it in this way. What's more, by this way, we could get rid of the encoder's long description."
   ]
  },
  {
   "cell_type": "code",
   "execution_count": 206,
   "metadata": {},
   "outputs": [],
   "source": [
    "targets=[\"restaurant\",\"mobile home park\", \"courthouse\", \"jail\", \"county\", \"city/town\", \"store/establishment\", \"state\", \"hotel\", \"church\", \"private home\", \"agricultural business\", \"hospital\"]\n",
    "\n",
    "target_encoder={i+1:targets[i] for i in range(13)}\n",
    "\n",
    "\n"
   ]
  },
  {
   "cell_type": "code",
   "execution_count": 233,
   "metadata": {},
   "outputs": [],
   "source": [
    "def check_target(x):\n",
    "    \n",
    "    if type(x)==float:\n",
    "        return x\n",
    "    \n",
    "    elif type(x)==int:\n",
    "        return target_encoder[x]\n",
    "    \n",
    "    elif x=='6,9,':\n",
    "        return target_encoder[9]\n",
    "    \n",
    "    elif x=='1, Operation Keep Safe':\n",
    "        return \"restaurant, Operation Keep Safe\"\n",
    "    \n",
    "    elif x[0] in \"1234567890\":\n",
    "        return target_encoder[int(x)]\n",
    "    else:\n",
    "        return x\n",
    "    \n",
    "    "
   ]
  },
  {
   "cell_type": "code",
   "execution_count": 234,
   "metadata": {},
   "outputs": [],
   "source": [
    "df_immig_raid[\"target_location\"]= df_immig_raid[target_longname].apply(check_target)"
   ]
  },
  {
   "cell_type": "code",
   "execution_count": 236,
   "metadata": {},
   "outputs": [
    {
     "data": {
      "text/plain": [
       "target_location\n",
       "state                              117\n",
       "Operation Cross Check               50\n",
       "Operation Keep Safe                 48\n",
       "restaurant, Operation Keep Safe     42\n",
       "county                              40\n",
       "Operation Safe City                 40\n",
       "restaurant                          28\n",
       "city/town                           24\n",
       "Operation Project Shadowfire        14\n",
       "Operation Safe Cities                9\n",
       "private home                         9\n",
       "hotel                                7\n",
       "store/establishment                  6\n",
       "Operation Safe Haven                 4\n",
       "agricultural business                3\n",
       "church                               2\n",
       "hospital                             1\n",
       "mobile home park                     1\n",
       "Operation No Safe Haven II           1\n",
       "Name: count, dtype: int64"
      ]
     },
     "execution_count": 236,
     "metadata": {},
     "output_type": "execute_result"
    }
   ],
   "source": [
    "df_immig_raid[\"target_location\"].value_counts()"
   ]
  },
  {
   "cell_type": "code",
   "execution_count": null,
   "metadata": {},
   "outputs": [],
   "source": []
  },
  {
   "cell_type": "markdown",
   "metadata": {},
   "source": [
    "## For 'previousconviction' attribute:"
   ]
  },
  {
   "cell_type": "code",
   "execution_count": 237,
   "metadata": {},
   "outputs": [
    {
     "data": {
      "text/plain": [
       "previousconviction\n",
       "1                                                                                                                                                                                                                                                                                                                                                                      139\n",
       "47.435897                                                                                                                                                                                                                                                                                                                                                               90\n",
       "63.654618                                                                                                                                                                                                                                                                                                                                                               49\n",
       "All of those arrested by ICE during the enforcement action, which concluded Sept. 29, met at least one of the agency’s three enforcement priorities. Over one quarter had criminal records that included felony convictions for serious or violent offenses, such as murder, attempted murder, child sex crimes, sex offenses, weapons charges and drug violations.     19\n",
       "36.531365                                                                                                                                                                                                                                                                                                                                                                9\n",
       "87.128713                                                                                                                                                                                                                                                                                                                                                                8\n",
       "0.56                                                                                                                                                                                                                                                                                                                                                                     7\n",
       "92.156863                                                                                                                                                                                                                                                                                                                                                                6\n",
       "75.280899                                                                                                                                                                                                                                                                                                                                                                6\n",
       "63.953488                                                                                                                                                                                                                                                                                                                                                                6\n",
       "0.55                                                                                                                                                                                                                                                                                                                                                                     5\n",
       "66.842105                                                                                                                                                                                                                                                                                                                                                                5\n",
       "82.926829                                                                                                                                                                                                                                                                                                                                                                5\n",
       "0.9                                                                                                                                                                                                                                                                                                                                                                      5\n",
       "0.62                                                                                                                                                                                                                                                                                                                                                                     4\n",
       "0.88                                                                                                                                                                                                                                                                                                                                                                     4\n",
       "75                                                                                                                                                                                                                                                                                                                                                                       4\n",
       "89.719626                                                                                                                                                                                                                                                                                                                                                                1\n",
       "0.75                                                                                                                                                                                                                                                                                                                                                                     1\n",
       "Name: count, dtype: int64"
      ]
     },
     "execution_count": 237,
     "metadata": {},
     "output_type": "execute_result"
    }
   ],
   "source": [
    "df_immig_raid['previousconviction'].value_counts()"
   ]
  },
  {
   "cell_type": "code",
   "execution_count": 239,
   "metadata": {},
   "outputs": [
    {
     "data": {
      "text/plain": [
       "np.True_"
      ]
     },
     "execution_count": 239,
     "metadata": {},
     "output_type": "execute_result"
    }
   ],
   "source": [
    "df_immig_raid['previousconviction'].isna().any()"
   ]
  },
  {
   "cell_type": "code",
   "execution_count": 240,
   "metadata": {},
   "outputs": [
    {
     "data": {
      "text/plain": [
       "previousconviction\n",
       "True     407\n",
       "False    373\n",
       "Name: count, dtype: int64"
      ]
     },
     "execution_count": 240,
     "metadata": {},
     "output_type": "execute_result"
    }
   ],
   "source": [
    "df_immig_raid['previousconviction'].isna().value_counts()"
   ]
  },
  {
   "cell_type": "markdown",
   "metadata": {},
   "source": [
    "The values make no sense since the purpose of this attribute is ambiguous. Some instances are float, but some of them are given as percentages. This will be consulted to the client."
   ]
  },
  {
   "cell_type": "code",
   "execution_count": null,
   "metadata": {},
   "outputs": [],
   "source": []
  },
  {
   "cell_type": "markdown",
   "metadata": {},
   "source": [
    "## For 'female' attribute:"
   ]
  },
  {
   "cell_type": "code",
   "execution_count": 238,
   "metadata": {},
   "outputs": [
    {
     "data": {
      "text/plain": [
       "female\n",
       "0.0     146\n",
       "9.0      90\n",
       "1.0      14\n",
       "11.0     10\n",
       "4.0       6\n",
       "2.0       5\n",
       "12.0      4\n",
       "7.0       3\n",
       "3.0       1\n",
       "Name: count, dtype: int64"
      ]
     },
     "execution_count": 238,
     "metadata": {},
     "output_type": "execute_result"
    }
   ],
   "source": [
    "df_immig_raid['female'].value_counts()"
   ]
  },
  {
   "cell_type": "code",
   "execution_count": 241,
   "metadata": {},
   "outputs": [
    {
     "data": {
      "text/plain": [
       "np.True_"
      ]
     },
     "execution_count": 241,
     "metadata": {},
     "output_type": "execute_result"
    }
   ],
   "source": [
    "df_immig_raid['female'].isna().any()"
   ]
  },
  {
   "cell_type": "code",
   "execution_count": 242,
   "metadata": {},
   "outputs": [
    {
     "data": {
      "text/plain": [
       "female\n",
       "True     501\n",
       "False    279\n",
       "Name: count, dtype: int64"
      ]
     },
     "execution_count": 242,
     "metadata": {},
     "output_type": "execute_result"
    }
   ],
   "source": [
    "df_immig_raid['female'].isna().value_counts()"
   ]
  },
  {
   "cell_type": "markdown",
   "metadata": {},
   "source": [
    "This attribute looks fine."
   ]
  },
  {
   "cell_type": "code",
   "execution_count": null,
   "metadata": {},
   "outputs": [],
   "source": []
  },
  {
   "cell_type": "markdown",
   "metadata": {},
   "source": [
    "## For 'nationality' attribute:"
   ]
  },
  {
   "cell_type": "code",
   "execution_count": 243,
   "metadata": {},
   "outputs": [
    {
     "data": {
      "text/plain": [
       "nationality\n",
       "Mexico (125), Guatemala (10), Poland (6), El Salvador (4), Honduras (4), Philippines (2), Ecuador (1), Jamaica (1), Jordan (1), Lithuania (1) and New Zealand (1)                                                                                                                                                                                                                                          90\n",
       "Mexico (37), Cuba (1), and El Salvador (1)                                                                                                                                                                                                                                                                                                                                                                 73\n",
       "94 countries                                                                                                                                                                                                                                                                                                                                                                                               49\n",
       "42 countries                                                                                                                                                                                                                                                                                                                                                                                               23\n",
       "42 countries                                                                                                                                                                                                                                                                                                                                                                                               23\n",
       "Mexico, Honduras, Guatemala, El Salvador, Nicaragua, Panama, Peru, Venezuela, Colombia, Guyana, Ecuador, Brazil, Bolivia, Argentina, Uruguay, Chile, Jamaica, Ukraine, Bahamas, Trinidad, Dominican Republic, Haiti, Saint Lucia, Saint Kitts, Turks & Caicos, Antigua, Cuba, Canada, Czech Republic, Romania, France, United Kingdom, Italy, Latvia, Greece and Egypt                                     19\n",
       "14 Mexico, 1 Belize                                                                                                                                                                                                                                                                                                                                                                                        14\n",
       "eight nationals from Honduras, seven nationals from El Salvador, six from Guatemala, four from Colombia, four from Cuba, three each from Brazil, Costa Rica, Guyana and Haiti, and two each from Ecuador, Egypt, Korea, the Philippines, Peru, Spain and Turkey, Congo, Ethiopia, Georgia, Jamaica, Liberia, Nicaragua, Nigeria, Pakistan, Portugal, the United Kingdom, Ukraine, Venezuela and Vietnam     8\n",
       "Mexico (20); Jamaica (5), Ecuador (4), Honduras (3), Colombia (2), Dominican Republic (2), El Salvador (2),\\nGuatemala (2), Yemen (2), Bangladesh (1), France (1), Guyana (1), Jordan (1), Nigeria (1), Poland (1),\\nRomania (1), Slovakia (1), Spain (1), Trinidad (1), Yemen (1), Serbia (1), Egypt (1)                                                                                                   8\n",
       "Mexico (74), Honduras (3), Peru (2), El Salvador (1), Guatemala (1) and Samoa (1)                                                                                                                                                                                                                                                                                                                           7\n",
       "Mexico (55), Guatemala (10), El Salvador (6), Honduras (4) Bangladesh (3), Cameroon (1) Jordan (1), Laos (1), Liberia (1), Nigeria (1), Panama (1), Philippines (1) and Zimbabwe (1)                                                                                                                                                                                                                        6\n",
       "Mexico (95); Guatemala (4); Honduras (4); El Salvador (2); Peru (2); Samoa (2); Brazil (1); and Tonga (1).\\n\\n                                                                                                                                                                                                                                                                                              6\n",
       "Mexico (59), Guatemala (12), Honduras (8), Colombia (3), Nigeria (2), El Salvador (1), Laos (1), Nicaragua (1), Paquistán (1) y Vietnam (1).                                                                                                                                                                                                                                                                6\n",
       "Bangladesh, Central African Republic, Chile, Colombia, Costa Rica, Cuba, Dominican Republic, Ecuador, El Salvador, Ghana, Guatemala, Guyana, Haiti, Honduras, India, Iraq, Ireland, Jamaica, Jordan, Korea, Latvia, Liberia, Mexico, Morocco, Nicaragua, Nigeria, Pakistan, Philippines, Peru, Poland, Slovakia, Trinidad and Uruguay                                                                       5\n",
       "Mexico (146), Russion, El Salvador, Cambodia.                                                                                                                                                                                                                                                                                                                                                               5\n",
       "Brazil, China, Colombia, Cuba, Dominican Republic, Ecuador, El Salvador, Guatemala, Honduras, Italy, Jamaica, Mexico, Peru, and Ukraine.                                                                                                                                                                                                                                                                    5\n",
       "Algeria, Bolivia, China, Cuba, the Dominican Republic, El Salvador, Ethiopia, Ghana, Guatemala, Guinea, Honduras, Iran, Jamaica, Mexico, Moldova, Mongolia, New Zealand, Nicaragua, Peru, Philippines, Somalia, South Korea, Sudan, Trinidad, Vietnam and Sierra Leone                                                                                                                                      5\n",
       "36 countries throughout the world, including: Afghanistan, Albania, Angola, Anguilla, Bahamas, Bosnia, Brazil, Burma, Cambodia, Chile, Canada, China, Colombia, Costa Rica, Cuba, Dominica, Dominican Republic, Ecuador, El Salvador, Guatemala, Guyana, Haiti, Honduras, Hungary, Israel, Jamaica, Kuwait, Mexico, Nicaragua, Panama, Peru, Philippines, Poland, Spain, Turkey, and United Kingdom.        5\n",
       "Brazil, Canada, Colombia, Cuba, Dominican Republic, Ecuador, El Salvador, England, Guatemala, Guyana, Haiti, Honduras, India, Italy, Jamaica, Mexico, Poland, Portugal, Spain, Trinidad and Tobago, Uruguay, and Venezuela.                                                                                                                                                                                 5\n",
       "Mexico, El Salvador, Guatemala, Armenia, Honduras, Russia, Thailand, Vietnam, the Philippines, Yugoslavia and Cambodia                                                                                                                                                                                                                                                                                      5\n",
       "Brazil, Colombia, China, Cuba, Dominican Republic, Ecuador, Egypt, El Salvador, England, Ghana, Guatemala, Guyana, Haiti, Honduras, Hungary, Jamaica, Kenya, Mexico, Peru, Philippines and the Ukraine                                                                                                                                                                                                      5\n",
       "Mexico (89), a total of 11 countries are represented, including El Salvador (7); Guatemala (5); Belize (2); Honduras (2); Vietnam (2); Egypt (1); Philippines (1); Tonga (1); the United Kingdom (1); and Azerbaijan (1).                                                                                                                                                                                   4\n",
       "Mexico, Peru, Thailand, France and Ghana                                                                                                                                                                                                                                                                                                                                                                    4\n",
       "Bahamas, Chile, Colombia, Costa Rica, Cuba, Dominican Republic, Ecuador, El Salvador, Guatemala, Haiti, Honduras, India, Israel, Italy, Jamaica, Mexico, Nicaragua, Panama, Peru, South Africa, St. Kitts, Ukraine, Vietnam                                                                                                                                                                                 4\n",
       "Mexico (most), Guatemala (8), Honduras (2) and one each was from El Salvador, the United Kingdom, Cambodia, Brazil, Laos, the Philliipines, Western Samoa, Myanmar and Russia.                                                                                                                                                                                                                              3\n",
       "Mexico, Peru, Thailand, France and Ghana, El Salvador,                                                                                                                                                                                                                                                                                                                                                      3\n",
       "Belize (1), Bosnia (1), Ecuador (1), Guatemala (8), Honduras (3), Lithuania (3), Mexico (86), Poland (1), Senegal (1), and New Guinea (2)                                                                                                                                                                                                                                                                   1\n",
       "Nigeria (3)                                                                                                                                                                                                                                                                                                                                                                                                 1\n",
       "Mexican                                                                                                                                                                                                                                                                                                                                                                                                     1\n",
       "37 son de México, una es de Cuba y la restante de El Salvador                                                                                                                                                                                                                                                                                                                                               1\n",
       "95 countries                                                                                                                                                                                                                                                                                                                                                                                                1\n",
       "Guatemala (1)                                                                                                                                                                                                                                                                                                                                                                                               1\n",
       "44 countries                                                                                                                                                                                                                                                                                                                                                                                                1\n",
       "43 countries                                                                                                                                                                                                                                                                                                                                                                                                1\n",
       "Bahamas, Cuba, Dominican Republic, Haiti, Jamaica and Trinidad and Tobago, Afghanistan, Albania, Colombia, Costa Rica, Ecuador, Egypt, El Salvador, Guatemala, Honduras, South Korea, Mexico, Peru, Philippines, Poland, Slovenia, Spain, Tunisia, United Kingdom and Uruguay                                                                                                                               1\n",
       "45 countries                                                                                                                                                                                                                                                                                                                                                                                                1\n",
       "Name: count, dtype: int64"
      ]
     },
     "execution_count": 243,
     "metadata": {},
     "output_type": "execute_result"
    }
   ],
   "source": [
    "df_immig_raid['nationality'].value_counts()"
   ]
  },
  {
   "cell_type": "code",
   "execution_count": 252,
   "metadata": {},
   "outputs": [
    {
     "data": {
      "text/plain": [
       "np.True_"
      ]
     },
     "execution_count": 252,
     "metadata": {},
     "output_type": "execute_result"
    }
   ],
   "source": [
    "df_immig_raid['nationality'].isna().any()"
   ]
  },
  {
   "cell_type": "code",
   "execution_count": 244,
   "metadata": {},
   "outputs": [
    {
     "data": {
      "text/plain": [
       "nationality\n",
       "False    400\n",
       "True     380\n",
       "Name: count, dtype: int64"
      ]
     },
     "execution_count": 244,
     "metadata": {},
     "output_type": "execute_result"
    }
   ],
   "source": [
    "df_immig_raid['nationality'].isna().value_counts()"
   ]
  },
  {
   "cell_type": "markdown",
   "metadata": {},
   "source": [
    "The values here are too messy. A consultation with the client is needed."
   ]
  },
  {
   "cell_type": "code",
   "execution_count": null,
   "metadata": {},
   "outputs": [],
   "source": []
  },
  {
   "cell_type": "markdown",
   "metadata": {},
   "source": [
    "## For 'FIPSState' attribute:"
   ]
  },
  {
   "cell_type": "code",
   "execution_count": 245,
   "metadata": {},
   "outputs": [
    {
     "data": {
      "text/plain": [
       "FIPSState\n",
       "55.0    80\n",
       "17.0    75\n",
       "6.0     59\n",
       "24.0    47\n",
       "34.0    42\n",
       "12.0    40\n",
       "42.0    29\n",
       "13.0    20\n",
       "49.0    15\n",
       "48.0    15\n",
       "36.0    14\n",
       "51.0    11\n",
       "18.0     7\n",
       "28.0     6\n",
       "37.0     6\n",
       "35.0     5\n",
       "20.0     3\n",
       "53.0     3\n",
       "26.0     2\n",
       "41.0     1\n",
       "47.0     1\n",
       "Name: count, dtype: int64"
      ]
     },
     "execution_count": 245,
     "metadata": {},
     "output_type": "execute_result"
    }
   ],
   "source": [
    "df_immig_raid['FIPSState'].value_counts()"
   ]
  },
  {
   "cell_type": "code",
   "execution_count": 251,
   "metadata": {},
   "outputs": [
    {
     "data": {
      "text/plain": [
       "np.True_"
      ]
     },
     "execution_count": 251,
     "metadata": {},
     "output_type": "execute_result"
    }
   ],
   "source": [
    "df_immig_raid['FIPSState'].isna().any()"
   ]
  },
  {
   "cell_type": "code",
   "execution_count": 246,
   "metadata": {},
   "outputs": [
    {
     "data": {
      "text/plain": [
       "FIPSState\n",
       "False    481\n",
       "True     299\n",
       "Name: count, dtype: int64"
      ]
     },
     "execution_count": 246,
     "metadata": {},
     "output_type": "execute_result"
    }
   ],
   "source": [
    "df_immig_raid['FIPSState'].isna().value_counts()"
   ]
  },
  {
   "cell_type": "markdown",
   "metadata": {},
   "source": [
    "This attribute looks fine."
   ]
  },
  {
   "cell_type": "code",
   "execution_count": null,
   "metadata": {},
   "outputs": [],
   "source": []
  },
  {
   "cell_type": "markdown",
   "metadata": {},
   "source": [
    "## For 'FIPSCounty' attribute:"
   ]
  },
  {
   "cell_type": "code",
   "execution_count": 247,
   "metadata": {},
   "outputs": [
    {
     "data": {
      "text/plain": [
       "FIPSCounty\n",
       "31.0     75\n",
       "87.0     44\n",
       "7.0      42\n",
       "57.0     36\n",
       "101.0    36\n",
       "33.0     34\n",
       "37.0     34\n",
       "133.0    27\n",
       "111.0    25\n",
       "89.0     22\n",
       "35.0     14\n",
       "79.0     14\n",
       "5.0      13\n",
       "770.0    11\n",
       "85.0      7\n",
       "81.0      6\n",
       "9.0       5\n",
       "59.0      5\n",
       "49.0      5\n",
       "123.0     5\n",
       "439.0     4\n",
       "73.0      3\n",
       "175.0     3\n",
       "257.0     3\n",
       "161.0     2\n",
       "47.0      1\n",
       "109.0     1\n",
       "219.0     1\n",
       "1.0       1\n",
       "25.0      1\n",
       "41.0      1\n",
       "Name: count, dtype: int64"
      ]
     },
     "execution_count": 247,
     "metadata": {},
     "output_type": "execute_result"
    }
   ],
   "source": [
    "df_immig_raid['FIPSCounty'].value_counts()"
   ]
  },
  {
   "cell_type": "code",
   "execution_count": 250,
   "metadata": {},
   "outputs": [
    {
     "data": {
      "text/plain": [
       "np.True_"
      ]
     },
     "execution_count": 250,
     "metadata": {},
     "output_type": "execute_result"
    }
   ],
   "source": [
    "df_immig_raid['FIPSCounty'].isna().any()"
   ]
  },
  {
   "cell_type": "code",
   "execution_count": 248,
   "metadata": {},
   "outputs": [
    {
     "data": {
      "text/plain": [
       "FIPSCounty\n",
       "False    481\n",
       "True     299\n",
       "Name: count, dtype: int64"
      ]
     },
     "execution_count": 248,
     "metadata": {},
     "output_type": "execute_result"
    }
   ],
   "source": [
    "df_immig_raid['FIPSCounty'].isna().value_counts()"
   ]
  },
  {
   "cell_type": "markdown",
   "metadata": {},
   "source": [
    "This attribute looks fine."
   ]
  },
  {
   "cell_type": "code",
   "execution_count": null,
   "metadata": {},
   "outputs": [],
   "source": []
  },
  {
   "cell_type": "markdown",
   "metadata": {},
   "source": [
    "## For 'StateCountyFIPS' attribute:"
   ]
  },
  {
   "cell_type": "code",
   "execution_count": 249,
   "metadata": {},
   "outputs": [
    {
     "data": {
      "text/plain": [
       "StateCountyFIPS\n",
       "17031.0    71\n",
       "34007.0    42\n",
       "55101.0    37\n",
       "6037.0     34\n",
       "42133.0    26\n",
       "           ..\n",
       "55118.0     1\n",
       "24041.0     1\n",
       "55123.0     1\n",
       "55122.0     1\n",
       "28079.0     1\n",
       "Name: count, Length: 116, dtype: int64"
      ]
     },
     "execution_count": 249,
     "metadata": {},
     "output_type": "execute_result"
    }
   ],
   "source": [
    "df_immig_raid['StateCountyFIPS'].value_counts()"
   ]
  },
  {
   "cell_type": "code",
   "execution_count": 253,
   "metadata": {},
   "outputs": [
    {
     "data": {
      "text/plain": [
       "np.True_"
      ]
     },
     "execution_count": 253,
     "metadata": {},
     "output_type": "execute_result"
    }
   ],
   "source": [
    "df_immig_raid['StateCountyFIPS'].isna().any()"
   ]
  },
  {
   "cell_type": "code",
   "execution_count": 254,
   "metadata": {},
   "outputs": [
    {
     "data": {
      "text/plain": [
       "StateCountyFIPS\n",
       "False    481\n",
       "True     299\n",
       "Name: count, dtype: int64"
      ]
     },
     "execution_count": 254,
     "metadata": {},
     "output_type": "execute_result"
    }
   ],
   "source": [
    "df_immig_raid['StateCountyFIPS'].isna().value_counts()"
   ]
  },
  {
   "cell_type": "code",
   "execution_count": null,
   "metadata": {},
   "outputs": [],
   "source": []
  },
  {
   "cell_type": "markdown",
   "metadata": {},
   "source": [
    "## Now, I will store the cleaned dataframe into a new excel file."
   ]
  },
  {
   "cell_type": "code",
   "execution_count": 262,
   "metadata": {},
   "outputs": [],
   "source": [
    "df_clean=pd.DataFrame()\n",
    "\n",
    "\n",
    "attributes_to_add=['arrestdate_start', 'arrestdate_end', 'CountyName', 'ST', 'arrests', 'arrests_total', 'durationofraid', 'city', 'city2', 'city3', 'location',\"target_location\", 'previousconviction' , 'female', 'nationality', 'FIPSState', 'FIPSCounty', 'StateCountyFIPS']\n",
    "df_clean =df_immig_raid[attributes_to_add]\n"
   ]
  },
  {
   "cell_type": "code",
   "execution_count": 264,
   "metadata": {},
   "outputs": [],
   "source": [
    "df_clean.to_excel('immigration_raids_oct2014_may2018_CLEANED1.xlsx')"
   ]
  },
  {
   "cell_type": "code",
   "execution_count": null,
   "metadata": {},
   "outputs": [],
   "source": []
  },
  {
   "cell_type": "code",
   "execution_count": null,
   "metadata": {},
   "outputs": [],
   "source": []
  },
  {
   "cell_type": "code",
   "execution_count": null,
   "metadata": {},
   "outputs": [],
   "source": []
  }
 ],
 "metadata": {
  "kernelspec": {
   "display_name": "ds701_env",
   "language": "python",
   "name": "ds701_env"
  },
  "language_info": {
   "codemirror_mode": {
    "name": "ipython",
    "version": 3
   },
   "file_extension": ".py",
   "mimetype": "text/x-python",
   "name": "python",
   "nbconvert_exporter": "python",
   "pygments_lexer": "ipython3",
   "version": "3.11.10"
  }
 },
 "nbformat": 4,
 "nbformat_minor": 4
}
